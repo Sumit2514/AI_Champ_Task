{
 "cells": [
  {
   "cell_type": "code",
   "execution_count": 1,
   "metadata": {},
   "outputs": [],
   "source": [
    "import os\n",
    "import pandas as pd \n",
    "import numpy as np"
   ]
  },
  {
   "cell_type": "code",
   "execution_count": 10,
   "metadata": {},
   "outputs": [],
   "source": [
    "data=os.path.join(\"data\",\"netflix_titles.csv\")"
   ]
  },
  {
   "cell_type": "code",
   "execution_count": 11,
   "metadata": {},
   "outputs": [],
   "source": [
    "df=pd.read_csv(data)"
   ]
  },
  {
   "cell_type": "code",
   "execution_count": 12,
   "metadata": {},
   "outputs": [
    {
     "data": {
      "text/html": [
       "<div>\n",
       "<style scoped>\n",
       "    .dataframe tbody tr th:only-of-type {\n",
       "        vertical-align: middle;\n",
       "    }\n",
       "\n",
       "    .dataframe tbody tr th {\n",
       "        vertical-align: top;\n",
       "    }\n",
       "\n",
       "    .dataframe thead th {\n",
       "        text-align: right;\n",
       "    }\n",
       "</style>\n",
       "<table border=\"1\" class=\"dataframe\">\n",
       "  <thead>\n",
       "    <tr style=\"text-align: right;\">\n",
       "      <th></th>\n",
       "      <th>show_id</th>\n",
       "      <th>type</th>\n",
       "      <th>title</th>\n",
       "      <th>director</th>\n",
       "      <th>cast</th>\n",
       "      <th>country</th>\n",
       "      <th>date_added</th>\n",
       "      <th>release_year</th>\n",
       "      <th>rating</th>\n",
       "      <th>duration</th>\n",
       "      <th>listed_in</th>\n",
       "      <th>description</th>\n",
       "    </tr>\n",
       "  </thead>\n",
       "  <tbody>\n",
       "    <tr>\n",
       "      <th>0</th>\n",
       "      <td>81145628</td>\n",
       "      <td>Movie</td>\n",
       "      <td>Norm of the North: King Sized Adventure</td>\n",
       "      <td>Richard Finn, Tim Maltby</td>\n",
       "      <td>Alan Marriott, Andrew Toth, Brian Dobson, Cole...</td>\n",
       "      <td>United States, India, South Korea, China</td>\n",
       "      <td>September 9, 2019</td>\n",
       "      <td>2019</td>\n",
       "      <td>TV-PG</td>\n",
       "      <td>90 min</td>\n",
       "      <td>Children &amp; Family Movies, Comedies</td>\n",
       "      <td>Before planning an awesome wedding for his gra...</td>\n",
       "    </tr>\n",
       "    <tr>\n",
       "      <th>1</th>\n",
       "      <td>80117401</td>\n",
       "      <td>Movie</td>\n",
       "      <td>Jandino: Whatever it Takes</td>\n",
       "      <td>NaN</td>\n",
       "      <td>Jandino Asporaat</td>\n",
       "      <td>United Kingdom</td>\n",
       "      <td>September 9, 2016</td>\n",
       "      <td>2016</td>\n",
       "      <td>TV-MA</td>\n",
       "      <td>94 min</td>\n",
       "      <td>Stand-Up Comedy</td>\n",
       "      <td>Jandino Asporaat riffs on the challenges of ra...</td>\n",
       "    </tr>\n",
       "    <tr>\n",
       "      <th>2</th>\n",
       "      <td>70234439</td>\n",
       "      <td>TV Show</td>\n",
       "      <td>Transformers Prime</td>\n",
       "      <td>NaN</td>\n",
       "      <td>Peter Cullen, Sumalee Montano, Frank Welker, J...</td>\n",
       "      <td>United States</td>\n",
       "      <td>September 8, 2018</td>\n",
       "      <td>2013</td>\n",
       "      <td>TV-Y7-FV</td>\n",
       "      <td>1 Season</td>\n",
       "      <td>Kids' TV</td>\n",
       "      <td>With the help of three human allies, the Autob...</td>\n",
       "    </tr>\n",
       "    <tr>\n",
       "      <th>3</th>\n",
       "      <td>80058654</td>\n",
       "      <td>TV Show</td>\n",
       "      <td>Transformers: Robots in Disguise</td>\n",
       "      <td>NaN</td>\n",
       "      <td>Will Friedle, Darren Criss, Constance Zimmer, ...</td>\n",
       "      <td>United States</td>\n",
       "      <td>September 8, 2018</td>\n",
       "      <td>2016</td>\n",
       "      <td>TV-Y7</td>\n",
       "      <td>1 Season</td>\n",
       "      <td>Kids' TV</td>\n",
       "      <td>When a prison ship crash unleashes hundreds of...</td>\n",
       "    </tr>\n",
       "    <tr>\n",
       "      <th>4</th>\n",
       "      <td>80125979</td>\n",
       "      <td>Movie</td>\n",
       "      <td>#realityhigh</td>\n",
       "      <td>Fernando Lebrija</td>\n",
       "      <td>Nesta Cooper, Kate Walsh, John Michael Higgins...</td>\n",
       "      <td>United States</td>\n",
       "      <td>September 8, 2017</td>\n",
       "      <td>2017</td>\n",
       "      <td>TV-14</td>\n",
       "      <td>99 min</td>\n",
       "      <td>Comedies</td>\n",
       "      <td>When nerdy high schooler Dani finally attracts...</td>\n",
       "    </tr>\n",
       "  </tbody>\n",
       "</table>\n",
       "</div>"
      ],
      "text/plain": [
       "    show_id     type                                    title  \\\n",
       "0  81145628    Movie  Norm of the North: King Sized Adventure   \n",
       "1  80117401    Movie               Jandino: Whatever it Takes   \n",
       "2  70234439  TV Show                       Transformers Prime   \n",
       "3  80058654  TV Show         Transformers: Robots in Disguise   \n",
       "4  80125979    Movie                             #realityhigh   \n",
       "\n",
       "                   director  \\\n",
       "0  Richard Finn, Tim Maltby   \n",
       "1                       NaN   \n",
       "2                       NaN   \n",
       "3                       NaN   \n",
       "4          Fernando Lebrija   \n",
       "\n",
       "                                                cast  \\\n",
       "0  Alan Marriott, Andrew Toth, Brian Dobson, Cole...   \n",
       "1                                   Jandino Asporaat   \n",
       "2  Peter Cullen, Sumalee Montano, Frank Welker, J...   \n",
       "3  Will Friedle, Darren Criss, Constance Zimmer, ...   \n",
       "4  Nesta Cooper, Kate Walsh, John Michael Higgins...   \n",
       "\n",
       "                                    country         date_added  release_year  \\\n",
       "0  United States, India, South Korea, China  September 9, 2019          2019   \n",
       "1                            United Kingdom  September 9, 2016          2016   \n",
       "2                             United States  September 8, 2018          2013   \n",
       "3                             United States  September 8, 2018          2016   \n",
       "4                             United States  September 8, 2017          2017   \n",
       "\n",
       "     rating  duration                           listed_in  \\\n",
       "0     TV-PG    90 min  Children & Family Movies, Comedies   \n",
       "1     TV-MA    94 min                     Stand-Up Comedy   \n",
       "2  TV-Y7-FV  1 Season                            Kids' TV   \n",
       "3     TV-Y7  1 Season                            Kids' TV   \n",
       "4     TV-14    99 min                            Comedies   \n",
       "\n",
       "                                         description  \n",
       "0  Before planning an awesome wedding for his gra...  \n",
       "1  Jandino Asporaat riffs on the challenges of ra...  \n",
       "2  With the help of three human allies, the Autob...  \n",
       "3  When a prison ship crash unleashes hundreds of...  \n",
       "4  When nerdy high schooler Dani finally attracts...  "
      ]
     },
     "execution_count": 12,
     "metadata": {},
     "output_type": "execute_result"
    }
   ],
   "source": [
    "df.head()"
   ]
  },
  {
   "cell_type": "code",
   "execution_count": 13,
   "metadata": {},
   "outputs": [
    {
     "data": {
      "text/plain": [
       "Index(['show_id', 'type', 'title', 'director', 'cast', 'country', 'date_added',\n",
       "       'release_year', 'rating', 'duration', 'listed_in', 'description'],\n",
       "      dtype='object')"
      ]
     },
     "execution_count": 13,
     "metadata": {},
     "output_type": "execute_result"
    }
   ],
   "source": [
    "df.columns"
   ]
  },
  {
   "cell_type": "code",
   "execution_count": 14,
   "metadata": {},
   "outputs": [
    {
     "data": {
      "text/plain": [
       "show_id          int64\n",
       "type            object\n",
       "title           object\n",
       "director        object\n",
       "cast            object\n",
       "country         object\n",
       "date_added      object\n",
       "release_year     int64\n",
       "rating          object\n",
       "duration        object\n",
       "listed_in       object\n",
       "description     object\n",
       "dtype: object"
      ]
     },
     "execution_count": 14,
     "metadata": {},
     "output_type": "execute_result"
    }
   ],
   "source": [
    "df.dtypes"
   ]
  },
  {
   "cell_type": "code",
   "execution_count": 15,
   "metadata": {},
   "outputs": [
    {
     "data": {
      "text/html": [
       "<div>\n",
       "<style scoped>\n",
       "    .dataframe tbody tr th:only-of-type {\n",
       "        vertical-align: middle;\n",
       "    }\n",
       "\n",
       "    .dataframe tbody tr th {\n",
       "        vertical-align: top;\n",
       "    }\n",
       "\n",
       "    .dataframe thead th {\n",
       "        text-align: right;\n",
       "    }\n",
       "</style>\n",
       "<table border=\"1\" class=\"dataframe\">\n",
       "  <thead>\n",
       "    <tr style=\"text-align: right;\">\n",
       "      <th></th>\n",
       "      <th>show_id</th>\n",
       "      <th>release_year</th>\n",
       "    </tr>\n",
       "  </thead>\n",
       "  <tbody>\n",
       "    <tr>\n",
       "      <th>count</th>\n",
       "      <td>6.234000e+03</td>\n",
       "      <td>6234.00000</td>\n",
       "    </tr>\n",
       "    <tr>\n",
       "      <th>mean</th>\n",
       "      <td>7.670368e+07</td>\n",
       "      <td>2013.35932</td>\n",
       "    </tr>\n",
       "    <tr>\n",
       "      <th>std</th>\n",
       "      <td>1.094296e+07</td>\n",
       "      <td>8.81162</td>\n",
       "    </tr>\n",
       "    <tr>\n",
       "      <th>min</th>\n",
       "      <td>2.477470e+05</td>\n",
       "      <td>1925.00000</td>\n",
       "    </tr>\n",
       "    <tr>\n",
       "      <th>25%</th>\n",
       "      <td>8.003580e+07</td>\n",
       "      <td>2013.00000</td>\n",
       "    </tr>\n",
       "    <tr>\n",
       "      <th>50%</th>\n",
       "      <td>8.016337e+07</td>\n",
       "      <td>2016.00000</td>\n",
       "    </tr>\n",
       "    <tr>\n",
       "      <th>75%</th>\n",
       "      <td>8.024489e+07</td>\n",
       "      <td>2018.00000</td>\n",
       "    </tr>\n",
       "    <tr>\n",
       "      <th>max</th>\n",
       "      <td>8.123573e+07</td>\n",
       "      <td>2020.00000</td>\n",
       "    </tr>\n",
       "  </tbody>\n",
       "</table>\n",
       "</div>"
      ],
      "text/plain": [
       "            show_id  release_year\n",
       "count  6.234000e+03    6234.00000\n",
       "mean   7.670368e+07    2013.35932\n",
       "std    1.094296e+07       8.81162\n",
       "min    2.477470e+05    1925.00000\n",
       "25%    8.003580e+07    2013.00000\n",
       "50%    8.016337e+07    2016.00000\n",
       "75%    8.024489e+07    2018.00000\n",
       "max    8.123573e+07    2020.00000"
      ]
     },
     "execution_count": 15,
     "metadata": {},
     "output_type": "execute_result"
    }
   ],
   "source": [
    "df.describe()"
   ]
  },
  {
   "cell_type": "code",
   "execution_count": 16,
   "metadata": {},
   "outputs": [
    {
     "data": {
      "text/plain": [
       "(6234, 12)"
      ]
     },
     "execution_count": 16,
     "metadata": {},
     "output_type": "execute_result"
    }
   ],
   "source": [
    "df.shape"
   ]
  },
  {
   "cell_type": "code",
   "execution_count": 17,
   "metadata": {},
   "outputs": [
    {
     "data": {
      "text/plain": [
       "array(['Movie', 'TV Show'], dtype=object)"
      ]
     },
     "execution_count": 17,
     "metadata": {},
     "output_type": "execute_result"
    }
   ],
   "source": [
    "df.type.unique()"
   ]
  },
  {
   "cell_type": "code",
   "execution_count": 18,
   "metadata": {},
   "outputs": [
    {
     "data": {
      "text/plain": [
       "array(['United States, India, South Korea, China', 'United Kingdom',\n",
       "       'United States', 'Spain', 'Bulgaria, United States, Spain, Canada',\n",
       "       'Chile', 'United States, United Kingdom, Denmark, Sweden', nan,\n",
       "       'Netherlands, Belgium, United Kingdom, United States',\n",
       "       'France, Belgium', 'United States, Uruguay', 'United States,',\n",
       "       'Thailand', 'China, Canada, United States',\n",
       "       'Belgium, United Kingdom, United States', 'Belgium, France',\n",
       "       'India', 'France', 'United States, Canada', 'Pakistan', 'Canada',\n",
       "       'United Kingdom, France', 'United States, United Kingdom',\n",
       "       'South Korea', 'Denmark, United States',\n",
       "       'United Kingdom, United States', 'Turkey, United States', 'Brazil',\n",
       "       'Denmark, France, Italy, Belgium, Netherlands', 'Indonesia',\n",
       "       'China', 'Ireland, United Kingdom', 'Turkey', 'Hong Kong',\n",
       "       'France, Morocco', 'Hong Kong, China', 'Mexico',\n",
       "       'United States, Mexico', 'Vietnam', 'France, Canada',\n",
       "       'Spain, Argentina', 'Nigeria', 'Japan',\n",
       "       'United Kingdom, Canada, United States',\n",
       "       'United Kingdom, France, Germany, Spain',\n",
       "       'United States, Greece, United Kingdom',\n",
       "       'Norway, United Kingdom, France, Ireland',\n",
       "       'France, Switzerland, Spain, United States, United Arab Emirates',\n",
       "       'Canada, United States', 'Canada, United States, United Kingdom',\n",
       "       'United States, United Kingdom, Canada, Japan',\n",
       "       'Japan, Canada, South Korea', 'Lebanon', 'Ireland',\n",
       "       'Cambodia, United States', 'Russia', 'United States, Denmark',\n",
       "       'Poland', 'Israel, United States', 'Italy', 'Netherlands',\n",
       "       'Brazil, United States', 'United States, France',\n",
       "       'Germany, United States, Canada', 'United States, Australia',\n",
       "       'Denmark, Brazil, France, Portugal, Sweden',\n",
       "       'France, United States', 'United Arab Emirates', 'Egypt', 'Taiwan',\n",
       "       'India, Germany, Austria', 'Australia', 'Czech Republic, France',\n",
       "       'United States, Senegal', 'Norway', 'Germany',\n",
       "       'India, Soviet Union', 'Argentina, Spain',\n",
       "       'United States, Hong Kong',\n",
       "       'United Kingdom, Italy, Israel, Peru, United States',\n",
       "       'Argentina, Uruguay, Spain, France',\n",
       "       'Germany, United States, Italy', 'Argentina',\n",
       "       'Pakistan, Norway, United States', 'Switzerland',\n",
       "       'United Kingdom, Ukraine, United States', 'Malaysia',\n",
       "       'Australia, United States', 'Ireland, South Africa',\n",
       "       'China, India, Nepal', 'Czech Republic, United States',\n",
       "       'United Kingdom, Hong Kong', 'United Kingdom, Canada, Italy',\n",
       "       'Spain, France', 'Philippines',\n",
       "       'United Kingdom, India, United States',\n",
       "       'France, Belgium, China, United States', 'Mexico, United States',\n",
       "       'United States, Indonesia', 'United Kingdom, Germany, Canada',\n",
       "       'Russia, Poland, Serbia', 'Serbia, United States',\n",
       "       'Spain, Portugal', 'Colombia', 'United States, Czech Republic',\n",
       "       'United States, United Kingdom, Germany', 'Singapore, Malaysia',\n",
       "       'Canada, Luxembourg', 'United States, Spain, Germany',\n",
       "       'Egypt, Austria, United States', 'Peru',\n",
       "       'United Kingdom, United States, Morocco',\n",
       "       'United States, Bulgaria', 'United Kingdom, West Germany',\n",
       "       'Belgium, Luxembourg, France', 'Mexico, Argentina',\n",
       "       'United Kingdom, Canada, United States, Cayman Islands',\n",
       "       'United States, United Kingdom, Morocco',\n",
       "       'Indonesia, United States', 'South Africa', 'United States, China',\n",
       "       'Netherlands, Denmark, South Africa',\n",
       "       'United Kingdom, Poland, United States', 'New Zealand',\n",
       "       'Venezuela', 'United States, Spain',\n",
       "       'Australia, United Arab Emirates', 'Australia, India',\n",
       "       'India, Malaysia',\n",
       "       'Canada, India, Thailand, United States, United Arab Emirates',\n",
       "       'Italy, France', 'Germany, Jordan, Netherlands',\n",
       "       'Turkey, France, Germany, Poland',\n",
       "       'United States, Israel, United Kingdom, Canada', 'Saudi Arabia',\n",
       "       'Egypt, France', 'Norway, Iceland, United States',\n",
       "       'Denmark, France, Poland', 'United States, Germany, Canada',\n",
       "       'United States, Germany', 'Poland,',\n",
       "       'United States, United Kingdom, Australia', 'Poland, West Germany',\n",
       "       'Germany, United States', 'United Kingdom, France, United States',\n",
       "       'United States, Malta, United Kingdom', 'United States, Sweden',\n",
       "       'India, United States', 'India, Australia',\n",
       "       'France, Canada, Belgium', 'United States, Italy',\n",
       "       'United States, Brazil', 'Canada, Ireland, United States',\n",
       "       'United States, France, Canada, Lebanon, Qatar',\n",
       "       'Switzerland, France', 'France, United Kingdom', 'Norway, Germany',\n",
       "       'United Kingdom, Canada, Japan', 'United States, Russia',\n",
       "       'Chile, United States, France', 'United States, Japan',\n",
       "       'Brazil, France', 'Iceland',\n",
       "       'United States, United Kingdom, Canada', 'Argentina, Chile',\n",
       "       'United Kingdom,', 'China, Hong Kong',\n",
       "       'South Africa, United States, New Zealand, Canada', 'Austria',\n",
       "       'Poland, United States', 'Ireland, Canada',\n",
       "       'Italy, Switzerland, France, Germany', 'Mexico, Netherlands',\n",
       "       'Peru, United States, United Kingdom', 'France, Senegal, Belgium',\n",
       "       'Germany, Canada, United States', 'Canada, Norway',\n",
       "       'China, Morocco, Hong Kong', 'Uruguay',\n",
       "       'United States, United Arab Emirates',\n",
       "       'Spain, Belgium, Switzerland, United States, China, United Kingdom',\n",
       "       'Singapore, United States',\n",
       "       'United Kingdom, Germany, Canada, United States',\n",
       "       'Australia, Canada', 'Australia, France',\n",
       "       'Germany, United Kingdom', 'Italy, United States',\n",
       "       'United States, New Zealand, United Kingdom',\n",
       "       'United Kingdom, Germany, United States',\n",
       "       'United States, Australia, Mexico',\n",
       "       'United States, South Korea, Japan', 'France, Iran, United States',\n",
       "       'United Kingdom, Australia, Canada, United States',\n",
       "       'France, Qatar', 'Finland, Germany, Belgium',\n",
       "       'United States, Spain, Chile, Peru',\n",
       "       'United Arab Emirates, United States, United Kingdom',\n",
       "       'United States, Ireland', 'Australia, Iraq',\n",
       "       'Argentina, United States, Mexico', 'Denmark',\n",
       "       'Germany, France, Russia',\n",
       "       'United States, Italy, United Kingdom, Liechtenstein',\n",
       "       'Hong Kong, United States', 'United States, United Kingdom, Italy',\n",
       "       'United States, France, Canada, Spain', 'Italy, Belgium, France',\n",
       "       'United States, United Kingdom, France', 'United Kingdom, India',\n",
       "       'New Zealand, United Kingdom, Australia',\n",
       "       'United Kingdom, China, United States', 'Pakistan, United States',\n",
       "       'Canada, India', 'India, Canada', 'Singapore',\n",
       "       'United States, Canada, United Kingdom', 'Mexico, France',\n",
       "       'United Kingdom, Belgium, Sweden', 'United States, India',\n",
       "       'Canada, Japan, United States',\n",
       "       'Italy, Switzerland, Albania, Poland', 'Colombia, United States',\n",
       "       'United Kingdom, Thailand', 'Belgium, Netherlands',\n",
       "       'United Kingdom, Israel, Russia', 'United Kingdom, South Africa',\n",
       "       'United States, South Korea, China', 'Cambodia', 'Denmark, Spain',\n",
       "       'Spain, Mexico, France', 'Argentina, Italy',\n",
       "       'United Kingdom, Pakistan',\n",
       "       'Denmark, France, United States, Sweden',\n",
       "       'Colombia, Mexico, United States', 'Czech Republic, Slovakia',\n",
       "       'Chile, Argentina', 'India, Germany, France',\n",
       "       'Spain, France, Uruguay', 'South Korea, Czech Republic',\n",
       "       'Italy, United States, Argentina', 'United States, South Africa',\n",
       "       'Singapore, France',\n",
       "       'United States, Australia, Samoa, United Kingdom',\n",
       "       'Spain, Switzerland', 'United Arab Emirates, Jordan',\n",
       "       'United Kingdom, Canada, France, United States',\n",
       "       'United States, Chile', 'Bulgaria, United States',\n",
       "       'Norway, Germany, Sweden', 'India, Japan',\n",
       "       'Austria, United States', 'Ghana, United States',\n",
       "       'United Kingdom, Spain, United States, Germany',\n",
       "       'United States, Cambodia', 'Mexico, Finland',\n",
       "       'Canada, United States, India, United Kingdom',\n",
       "       'Philippines, Qatar', 'Netherlands, Belgium, Germany, Jordan',\n",
       "       'Venezuela, Colombia',\n",
       "       'Brazil, Netherlands, United States, Colombia, Austria, Germany',\n",
       "       'Austria, Iraq, United States',\n",
       "       'Denmark, United Kingdom, South Africa, Sweden, Belgium',\n",
       "       'United States, Botswana', 'Iran, France',\n",
       "       'United Arab Emirates, United States', 'Belgium',\n",
       "       'United Kingdom, Japan, United States',\n",
       "       'United Arab Emirates, United Kingdom, India',\n",
       "       'United States, Taiwan',\n",
       "       'United Kingdom, United States, Czech Republic', 'Sweden',\n",
       "       'Hungary', 'India, France', 'India, Germany', 'Guatemala',\n",
       "       'Portugal, Spain', 'Taiwan, Hong Kong, United States, China',\n",
       "       'United Kingdom, Malawi', 'Paraguay, Argentina',\n",
       "       'Somalia, Kenya, Sudan, South Africa, United States',\n",
       "       'Germany, Sri Lanka', 'Ukraine', 'Uruguay, Spain, Mexico',\n",
       "       'France, Luxembourg, Canada', 'Spain, France, Italy',\n",
       "       'France, China, Japan, United States',\n",
       "       'United Kingdom, France, Canada, Belgium, United States',\n",
       "       'Colombia, Mexico', 'Dominican Republic',\n",
       "       'South Korea, United States', 'Israel',\n",
       "       'Chile, Argentina, France, Spain, United States', 'Russia, Spain',\n",
       "       'Netherlands, United States', 'Thailand, China, United States',\n",
       "       'United States, Canada, Ireland', 'United States, Iceland',\n",
       "       'Argentina, United States',\n",
       "       'United States, France, United Kingdom, Japan',\n",
       "       'United Kingdom, United States, Australia',\n",
       "       'Germany, United States, Sweden',\n",
       "       'United States, Canada, Japan, Panama', 'Sweden, United States',\n",
       "       'Chile, Peru', 'Israel, Sweden, Germany, Netherlands',\n",
       "       'Lebanon, Jordan', 'Romania',\n",
       "       'Denmark, Sweden, Israel, United States',\n",
       "       'Switzerland, United States',\n",
       "       'Finland, Sweden, Norway, Latvia, Germany',\n",
       "       'France, United Kingdom, India', 'Italy, France, Switzerland',\n",
       "       'France, Luxembourg, United States', 'India, United Kingdom',\n",
       "       'China, Hong Kong, United States', 'Singapore, Japan, France',\n",
       "       'United Kingdom, Poland', 'Philippines, Singapore',\n",
       "       'United States, China, Hong Kong',\n",
       "       'Canada, Mexico, Germany, South Africa',\n",
       "       'United Kingdom, New Zealand',\n",
       "       'United States, Brazil, India, Uganda, China',\n",
       "       'United Kingdom, Germany', 'China, United States, United Kingdom',\n",
       "       'Slovenia, Croatia, Germany, Czech Republic, Qatar',\n",
       "       'Germany, Australia', 'China, United States, Australia',\n",
       "       'Russia, United States',\n",
       "       'Ireland, Canada, United Kingdom, United States',\n",
       "       'Australia, United Kingdom, Canada', 'Canada, Spain, France',\n",
       "       'United Kingdom, Denmark, Canada, Croatia',\n",
       "       'Argentina, France, Germany',\n",
       "       'Switzerland, United Kingdom, United States',\n",
       "       'Argentina, Chile, Peru',\n",
       "       'Germany, France, Luxembourg, United Kingdom, United States',\n",
       "       'Taiwan, China, France, United States', 'Germany, Italy',\n",
       "       'Denmark, United Kingdom',\n",
       "       'Germany, United Kingdom, United States',\n",
       "       'United States, Czech Republic, United Kingdom',\n",
       "       'Hong Kong, Taiwan', 'Croatia, Slovenia, Serbia, Montenegro',\n",
       "       'United States, France, Italy, United Kingdom', 'Bangladesh',\n",
       "       'India, Nepal', 'United Kingdom, Jordan, Qatar, Iran',\n",
       "       'Norway, Denmark, Sweden', 'Iceland, Sweden, Belgium',\n",
       "       'United States, India, United Arab Emirates', 'India, Pakistan',\n",
       "       'Switzerland, Vatican City, Italy, Germany, France',\n",
       "       'Indonesia, Singapore',\n",
       "       'United Kingdom, United States, Spain, Germany, Greece, Canada',\n",
       "       'Spain, Belgium', 'Spain, United Kingdom, United States',\n",
       "       'United States, United Kingdom, France, Germany, Japan',\n",
       "       'United Kingdom, Egypt, United States',\n",
       "       'United States, India, Malaysia, Taiwan, Canada, United Kingdom',\n",
       "       'United Kingdom, Spain, Belgium',\n",
       "       'Germany, United States, United Kingdom, Canada',\n",
       "       'Soviet Union, India',\n",
       "       'Ireland, United Kingdom, Italy, United States',\n",
       "       'Austria, Czech Republic', 'United Kingdom, Ireland',\n",
       "       'United States, Greece, Brazil', 'Lebanon, Qatar',\n",
       "       'Italy, South Africa, West Germany, Australia, United States',\n",
       "       'United Kingdom, United States, Dominican Republic',\n",
       "       'Brazil, India, China, United States',\n",
       "       'Indonesia, South Korea, Singapore',\n",
       "       'United States, Canada, France', 'Brazil, France, Germany',\n",
       "       'United States, France, Mexico', 'United States, South Korea',\n",
       "       'United States, Canada, Germany', 'Mexico, Spain',\n",
       "       'Germany, France, United States, Canada, United Kingdom',\n",
       "       'Australia, United Kingdom',\n",
       "       'United States, Germany, United Kingdom',\n",
       "       'United States, Germany, United Kingdom, Italy',\n",
       "       'New Zealand, United States', 'United States, Germany, Mexico',\n",
       "       'South Africa, United States',\n",
       "       'United States, East Germany, West Germany',\n",
       "       'France, United States, Mexico', 'United Kingdom, Brazil, Germany',\n",
       "       'United States, India, Bangladesh', 'Germany, Belgium',\n",
       "       'Canada, France, Italy, Morocco, United States',\n",
       "       'Denmark, Germany, Belgium, United Kingdom, France',\n",
       "       'Belgium, Ireland, Netherlands, Germany, Afghanistan',\n",
       "       'United States, Venezuela', 'Canada, United Kingdom, Netherlands',\n",
       "       'United States, France, Japan', 'United States, New Zealand',\n",
       "       'United States, New Zealand, Japan',\n",
       "       'United States, Netherlands, Japan, France',\n",
       "       'France, United States, Canada', 'United Kingdom, Canada',\n",
       "       'Georgia', 'New Zealand, United Kingdom', 'Italy, India',\n",
       "       'Belgium, India, Australia',\n",
       "       'United States, Canada, Belgium, United Kingdom',\n",
       "       'United States, Spain, Italy', 'Serbia, South Korea, Slovenia',\n",
       "       'France, Netherlands, South Africa, Finland',\n",
       "       'China, United States',\n",
       "       'Denmark, Indonesia, Finland, Norway, United Kingdom, Israel, France, United States, Germany, Netherlands',\n",
       "       'Netherlands, Denmark, France, Germany',\n",
       "       'Ireland, Canada, Luxembourg, United States',\n",
       "       'Spain, Italy, Argentina',\n",
       "       'United States, Israel, Italy, South Africa',\n",
       "       'United Kingdom, United States, Russia',\n",
       "       'United Kingdom, France, Germany',\n",
       "       'Czech Republic, United Kingdom, France',\n",
       "       'Chile, Spain, Argentina, Germany',\n",
       "       'Australia, United Kingdom, United States, New Zealand, Italy, France',\n",
       "       'United Kingdom, Namibia, South Africa, Zimbabwe, United States',\n",
       "       'France, Germany, Switzerland', 'West Germany',\n",
       "       'United Kingdom, United States, France, Germany', 'Denmark, China',\n",
       "       'France, Germany, Czech Republic, Belgium',\n",
       "       'South Africa, Germany, Netherlands, France',\n",
       "       'China, South Korea, United States', 'Spain, Cuba',\n",
       "       'United States, Hungary', 'France, Germany', 'Israel, Germany',\n",
       "       'South Korea, Canada, United States, China',\n",
       "       'Italy, Canada, France', 'Thailand, United States',\n",
       "       'Japan, United States', 'Uruguay, Argentina, Spain',\n",
       "       'Sweden, Netherlands', 'Argentina, Uruguay, Serbia',\n",
       "       'France, Poland', 'Turkey, Azerbaijan', 'France, Japan',\n",
       "       'Australia, United Kingdom, United Arab Emirates, Canada',\n",
       "       'Ireland, United Kingdom, United States',\n",
       "       'Mauritius, South Africa',\n",
       "       'United Kingdom, Italy, Argentina, United States',\n",
       "       'France, South Korea, Japan', 'Australia, France, Ireland',\n",
       "       'Ireland, United Kingdom, Greece, France, Netherlands',\n",
       "       'Canada, Germany, South Africa', 'Thailand, Canada, United States',\n",
       "       'United Kingdom, United States, Germany, Denmark, Belgium, Japan',\n",
       "       'Canada, Germany, France, United States', 'Ghana',\n",
       "       'United States, Nicaragua', 'South Korea, China, United States',\n",
       "       'Israel, Germany, France', 'Brazil, Canada',\n",
       "       'Canada, France, United States', 'Canada, Japan, Netherlands',\n",
       "       'United Kingdom, India, Sweden',\n",
       "       'India, United Kingdom, Canada, United States',\n",
       "       'Sweden, United Kingdom, Finland', 'Romania, Bulgaria, Hungary',\n",
       "       'Norway, Denmark, Netherlands, Sweden',\n",
       "       'Hong Kong, China, United States', 'Canada, France',\n",
       "       'India, Mexico', 'Georgia, Germany, France', 'India, Switzerland',\n",
       "       'United Arab Emirates, Romania', 'United States, Kazakhstan',\n",
       "       'Malaysia, Singapore, Hong Kong', 'France, China, Canada',\n",
       "       'China, Japan', 'United Kingdom, France, Belgium, United States',\n",
       "       'China, United Kingdom', 'Spain, Germany', 'Canada, Spain',\n",
       "       'France, Belgium, Spain',\n",
       "       'Denmark, Germany, Belgium, United Kingdom, France, Sweden',\n",
       "       'China, Taiwan',\n",
       "       'Israel, Germany, Poland, Luxembourg, Belgium, France, United States',\n",
       "       'Finland, Germany', 'India, Turkey',\n",
       "       'United Kingdom, France, Belgium', 'Spain, Mexico',\n",
       "       'Australia, Armenia, Japan, Jordan, Mexico, Mongolia, New Zealand, Philippines, South Africa, Sweden, United States, Uruguay',\n",
       "       'United States, Argentina', 'United States, Bermuda, Ecuador',\n",
       "       'India, Iran', 'United Kingdom, South Korea',\n",
       "       'United States, Germany, Australia', 'Argentina, France',\n",
       "       'Germany, United States, Hong Kong, Singapore', 'Chile, France',\n",
       "       'South Africa, China, United States', 'Netherlands, Belgium',\n",
       "       'United States, Morocco', 'Spain, Colombia',\n",
       "       'United Kingdom, South Africa, Australia, United States',\n",
       "       'Bulgaria', 'Turkey, India', 'Italy, Turkey',\n",
       "       'Saudi Arabia, Syria, Egypt, Lebanon, Kuwait',\n",
       "       'Hong Kong, China, Singapore',\n",
       "       'Canada, United Kingdom, United States',\n",
       "       'United States, Australia, China', 'Australia, New Zealand',\n",
       "       'United Kingdom, Norway, Denmark, Germany, Sweden',\n",
       "       'South Africa, United States, Germany', 'Denmark, Zimbabwe',\n",
       "       'United States, Australia, South Africa, United Kingdom',\n",
       "       'China, Germany, India, United States',\n",
       "       'United Kingdom, United States, Greece, Italy, Germany',\n",
       "       'Portugal, France, Poland, United States',\n",
       "       'United Kingdom, China, Canada, Indonesia, Singapore, United States',\n",
       "       'United Kingdom, Singapore', 'France, Netherlands, Singapore',\n",
       "       'Ireland, United States, France', 'Pakistan, United Arab Emirates',\n",
       "       'Argentina, Brazil, France, Poland, Germany, Denmark',\n",
       "       'United States, United Kingdom, Spain, South Korea',\n",
       "       'United Kingdom, Italy, France, United States',\n",
       "       'United Kingdom, Russia',\n",
       "       'United States, France, South Korea, Indonesia',\n",
       "       'United States, Colombia, Mexico',\n",
       "       'United States, Ireland, United Kingdom',\n",
       "       'Australia, New Zealand, United States',\n",
       "       'France, United Kingdom, United States',\n",
       "       'United States, France, Canada', 'Canada, United Kingdom',\n",
       "       'United States, Spain, Colombia, Mexico', 'Norway, United States',\n",
       "       'Canada, Australia', 'United States, Mexico, Spain, Malta',\n",
       "       'United States, Japan, Canada', 'Canada, Brazil',\n",
       "       'Canada, United States, France', 'South Korea, France',\n",
       "       'Japan, Canada', 'Finland',\n",
       "       'Ireland, Canada, United States, United Kingdom',\n",
       "       'Italy, United Kingdom, France', 'United States, Colombia',\n",
       "       'Spain, United Kingdom', 'Netherlands, Germany, Italy, Canada',\n",
       "       'Croatia', 'Finland, France',\n",
       "       'Denmark, Singapore, Canada, United States',\n",
       "       'United States, Hungary, Ireland, Canada', 'Norway, Sweden',\n",
       "       'United States, Mexico, Colombia',\n",
       "       'United States, Brazil, South Korea, Mexico, Japan, Germany',\n",
       "       'Italy, Germany', 'Cyprus, Austria, Thailand'], dtype=object)"
      ]
     },
     "execution_count": 18,
     "metadata": {},
     "output_type": "execute_result"
    }
   ],
   "source": [
    "df.country.unique()"
   ]
  },
  {
   "cell_type": "code",
   "execution_count": 19,
   "metadata": {},
   "outputs": [
    {
     "data": {
      "text/plain": [
       "array(['Movie', 'TV Show'], dtype=object)"
      ]
     },
     "execution_count": 19,
     "metadata": {},
     "output_type": "execute_result"
    }
   ],
   "source": [
    "df['type'].unique()"
   ]
  },
  {
   "cell_type": "code",
   "execution_count": 20,
   "metadata": {},
   "outputs": [
    {
     "data": {
      "text/plain": [
       "Movie      4265\n",
       "TV Show    1969\n",
       "Name: type, dtype: int64"
      ]
     },
     "execution_count": 20,
     "metadata": {},
     "output_type": "execute_result"
    }
   ],
   "source": [
    "df.type.value_counts()"
   ]
  },
  {
   "cell_type": "code",
   "execution_count": 21,
   "metadata": {},
   "outputs": [],
   "source": [
    "a=np.random.randint(0,10,size=(5))"
   ]
  },
  {
   "cell_type": "code",
   "execution_count": 22,
   "metadata": {},
   "outputs": [
    {
     "data": {
      "text/plain": [
       "array([6, 7, 8, 0, 2])"
      ]
     },
     "execution_count": 22,
     "metadata": {},
     "output_type": "execute_result"
    }
   ],
   "source": [
    "a"
   ]
  },
  {
   "cell_type": "code",
   "execution_count": 24,
   "metadata": {},
   "outputs": [],
   "source": [
    "s=pd.Series(a)"
   ]
  },
  {
   "cell_type": "code",
   "execution_count": 25,
   "metadata": {},
   "outputs": [
    {
     "data": {
      "text/plain": [
       "0    6\n",
       "1    7\n",
       "2    8\n",
       "3    0\n",
       "4    2\n",
       "dtype: int64"
      ]
     },
     "execution_count": 25,
     "metadata": {},
     "output_type": "execute_result"
    }
   ],
   "source": [
    "s"
   ]
  },
  {
   "cell_type": "code",
   "execution_count": 26,
   "metadata": {},
   "outputs": [
    {
     "data": {
      "text/plain": [
       "a    9\n",
       "b    9\n",
       "c    4\n",
       "d    9\n",
       "e    3\n",
       "dtype: int64"
      ]
     },
     "execution_count": 26,
     "metadata": {},
     "output_type": "execute_result"
    }
   ],
   "source": [
    "labels=['a','b','c','d','e']\n",
    "a=np.random.randint(0,10,size=(5))\n",
    "s=pd.Series(a,index=labels)\n",
    "s"
   ]
  },
  {
   "cell_type": "code",
   "execution_count": 29,
   "metadata": {},
   "outputs": [
    {
     "name": "stdout",
     "output_type": "stream",
     "text": [
      "s[0]:\n",
      " 9\n",
      " type:\n",
      "<class 'numpy.int64'>\n"
     ]
    }
   ],
   "source": [
    "print(\"s[0]:\\n {}\\n type:\\n{}\".format(s[0],type(s['a'])))"
   ]
  },
  {
   "cell_type": "code",
   "execution_count": 30,
   "metadata": {},
   "outputs": [],
   "source": [
    "a=['A','B','C','D','E']\n",
    "b=np.random.randint(1,45,size=(5))"
   ]
  },
  {
   "cell_type": "code",
   "execution_count": 31,
   "metadata": {},
   "outputs": [
    {
     "data": {
      "text/plain": [
       "['A', 'B', 'C', 'D', 'E']"
      ]
     },
     "execution_count": 31,
     "metadata": {},
     "output_type": "execute_result"
    }
   ],
   "source": [
    "a"
   ]
  },
  {
   "cell_type": "code",
   "execution_count": 32,
   "metadata": {},
   "outputs": [
    {
     "data": {
      "text/plain": [
       "array([12,  8, 37, 42, 42])"
      ]
     },
     "execution_count": 32,
     "metadata": {},
     "output_type": "execute_result"
    }
   ],
   "source": [
    "b"
   ]
  },
  {
   "cell_type": "code",
   "execution_count": 33,
   "metadata": {},
   "outputs": [],
   "source": [
    "df=pd.DataFrame({\"name\":a,\"balance\":b})"
   ]
  },
  {
   "cell_type": "code",
   "execution_count": 34,
   "metadata": {},
   "outputs": [
    {
     "data": {
      "text/html": [
       "<div>\n",
       "<style scoped>\n",
       "    .dataframe tbody tr th:only-of-type {\n",
       "        vertical-align: middle;\n",
       "    }\n",
       "\n",
       "    .dataframe tbody tr th {\n",
       "        vertical-align: top;\n",
       "    }\n",
       "\n",
       "    .dataframe thead th {\n",
       "        text-align: right;\n",
       "    }\n",
       "</style>\n",
       "<table border=\"1\" class=\"dataframe\">\n",
       "  <thead>\n",
       "    <tr style=\"text-align: right;\">\n",
       "      <th></th>\n",
       "      <th>name</th>\n",
       "      <th>balance</th>\n",
       "    </tr>\n",
       "  </thead>\n",
       "  <tbody>\n",
       "    <tr>\n",
       "      <th>0</th>\n",
       "      <td>A</td>\n",
       "      <td>12</td>\n",
       "    </tr>\n",
       "    <tr>\n",
       "      <th>1</th>\n",
       "      <td>B</td>\n",
       "      <td>8</td>\n",
       "    </tr>\n",
       "    <tr>\n",
       "      <th>2</th>\n",
       "      <td>C</td>\n",
       "      <td>37</td>\n",
       "    </tr>\n",
       "    <tr>\n",
       "      <th>3</th>\n",
       "      <td>D</td>\n",
       "      <td>42</td>\n",
       "    </tr>\n",
       "    <tr>\n",
       "      <th>4</th>\n",
       "      <td>E</td>\n",
       "      <td>42</td>\n",
       "    </tr>\n",
       "  </tbody>\n",
       "</table>\n",
       "</div>"
      ],
      "text/plain": [
       "  name  balance\n",
       "0    A       12\n",
       "1    B        8\n",
       "2    C       37\n",
       "3    D       42\n",
       "4    E       42"
      ]
     },
     "execution_count": 34,
     "metadata": {},
     "output_type": "execute_result"
    }
   ],
   "source": [
    "df.head()"
   ]
  },
  {
   "cell_type": "code",
   "execution_count": 35,
   "metadata": {},
   "outputs": [
    {
     "data": {
      "text/plain": [
       "0    A\n",
       "1    B\n",
       "2    C\n",
       "3    D\n",
       "4    E\n",
       "Name: name, dtype: object"
      ]
     },
     "execution_count": 35,
     "metadata": {},
     "output_type": "execute_result"
    }
   ],
   "source": [
    "df.name"
   ]
  },
  {
   "cell_type": "code",
   "execution_count": 36,
   "metadata": {},
   "outputs": [
    {
     "data": {
      "text/plain": [
       "0    A\n",
       "1    B\n",
       "2    C\n",
       "3    D\n",
       "4    E\n",
       "Name: name, dtype: object"
      ]
     },
     "execution_count": 36,
     "metadata": {},
     "output_type": "execute_result"
    }
   ],
   "source": [
    "df['name']"
   ]
  },
  {
   "cell_type": "code",
   "execution_count": 37,
   "metadata": {},
   "outputs": [
    {
     "data": {
      "text/plain": [
       "pandas.core.series.Series"
      ]
     },
     "execution_count": 37,
     "metadata": {},
     "output_type": "execute_result"
    }
   ],
   "source": [
    "type(df.name)"
   ]
  },
  {
   "cell_type": "code",
   "execution_count": 38,
   "metadata": {},
   "outputs": [
    {
     "data": {
      "text/plain": [
       "'A'"
      ]
     },
     "execution_count": 38,
     "metadata": {},
     "output_type": "execute_result"
    }
   ],
   "source": [
    "df['name'][0]"
   ]
  },
  {
   "cell_type": "code",
   "execution_count": 39,
   "metadata": {},
   "outputs": [
    {
     "data": {
      "text/plain": [
       "'E'"
      ]
     },
     "execution_count": 39,
     "metadata": {},
     "output_type": "execute_result"
    }
   ],
   "source": [
    "df['name'][4]"
   ]
  },
  {
   "cell_type": "code",
   "execution_count": 40,
   "metadata": {},
   "outputs": [
    {
     "data": {
      "text/html": [
       "<div>\n",
       "<style scoped>\n",
       "    .dataframe tbody tr th:only-of-type {\n",
       "        vertical-align: middle;\n",
       "    }\n",
       "\n",
       "    .dataframe tbody tr th {\n",
       "        vertical-align: top;\n",
       "    }\n",
       "\n",
       "    .dataframe thead th {\n",
       "        text-align: right;\n",
       "    }\n",
       "</style>\n",
       "<table border=\"1\" class=\"dataframe\">\n",
       "  <thead>\n",
       "    <tr style=\"text-align: right;\">\n",
       "      <th></th>\n",
       "      <th>name</th>\n",
       "      <th>balance</th>\n",
       "    </tr>\n",
       "  </thead>\n",
       "  <tbody>\n",
       "    <tr>\n",
       "      <th>0</th>\n",
       "      <td>A</td>\n",
       "      <td>12</td>\n",
       "    </tr>\n",
       "    <tr>\n",
       "      <th>1</th>\n",
       "      <td>B</td>\n",
       "      <td>8</td>\n",
       "    </tr>\n",
       "  </tbody>\n",
       "</table>\n",
       "</div>"
      ],
      "text/plain": [
       "  name  balance\n",
       "0    A       12\n",
       "1    B        8"
      ]
     },
     "execution_count": 40,
     "metadata": {},
     "output_type": "execute_result"
    }
   ],
   "source": [
    "df.iloc[:2,:]"
   ]
  },
  {
   "cell_type": "code",
   "execution_count": 41,
   "metadata": {},
   "outputs": [
    {
     "data": {
      "text/html": [
       "<div>\n",
       "<style scoped>\n",
       "    .dataframe tbody tr th:only-of-type {\n",
       "        vertical-align: middle;\n",
       "    }\n",
       "\n",
       "    .dataframe tbody tr th {\n",
       "        vertical-align: top;\n",
       "    }\n",
       "\n",
       "    .dataframe thead th {\n",
       "        text-align: right;\n",
       "    }\n",
       "</style>\n",
       "<table border=\"1\" class=\"dataframe\">\n",
       "  <thead>\n",
       "    <tr style=\"text-align: right;\">\n",
       "      <th></th>\n",
       "      <th>name</th>\n",
       "    </tr>\n",
       "  </thead>\n",
       "  <tbody>\n",
       "    <tr>\n",
       "      <th>0</th>\n",
       "      <td>A</td>\n",
       "    </tr>\n",
       "    <tr>\n",
       "      <th>1</th>\n",
       "      <td>B</td>\n",
       "    </tr>\n",
       "  </tbody>\n",
       "</table>\n",
       "</div>"
      ],
      "text/plain": [
       "  name\n",
       "0    A\n",
       "1    B"
      ]
     },
     "execution_count": 41,
     "metadata": {},
     "output_type": "execute_result"
    }
   ],
   "source": [
    "df.iloc[:2,:1]"
   ]
  },
  {
   "cell_type": "code",
   "execution_count": 44,
   "metadata": {},
   "outputs": [
    {
     "data": {
      "text/plain": [
       "0    A\n",
       "1    B\n",
       "2    C\n",
       "Name: name, dtype: object"
      ]
     },
     "execution_count": 44,
     "metadata": {},
     "output_type": "execute_result"
    }
   ],
   "source": [
    "df['name'].iloc[:3]"
   ]
  },
  {
   "cell_type": "code",
   "execution_count": 45,
   "metadata": {},
   "outputs": [
    {
     "data": {
      "text/html": [
       "<div>\n",
       "<style scoped>\n",
       "    .dataframe tbody tr th:only-of-type {\n",
       "        vertical-align: middle;\n",
       "    }\n",
       "\n",
       "    .dataframe tbody tr th {\n",
       "        vertical-align: top;\n",
       "    }\n",
       "\n",
       "    .dataframe thead th {\n",
       "        text-align: right;\n",
       "    }\n",
       "</style>\n",
       "<table border=\"1\" class=\"dataframe\">\n",
       "  <thead>\n",
       "    <tr style=\"text-align: right;\">\n",
       "      <th></th>\n",
       "      <th>balance</th>\n",
       "    </tr>\n",
       "  </thead>\n",
       "  <tbody>\n",
       "    <tr>\n",
       "      <th>0</th>\n",
       "      <td>12</td>\n",
       "    </tr>\n",
       "    <tr>\n",
       "      <th>1</th>\n",
       "      <td>8</td>\n",
       "    </tr>\n",
       "    <tr>\n",
       "      <th>2</th>\n",
       "      <td>37</td>\n",
       "    </tr>\n",
       "    <tr>\n",
       "      <th>3</th>\n",
       "      <td>42</td>\n",
       "    </tr>\n",
       "    <tr>\n",
       "      <th>4</th>\n",
       "      <td>42</td>\n",
       "    </tr>\n",
       "  </tbody>\n",
       "</table>\n",
       "</div>"
      ],
      "text/plain": [
       "   balance\n",
       "0       12\n",
       "1        8\n",
       "2       37\n",
       "3       42\n",
       "4       42"
      ]
     },
     "execution_count": 45,
     "metadata": {},
     "output_type": "execute_result"
    }
   ],
   "source": [
    "df.loc[:,['balance']]"
   ]
  },
  {
   "cell_type": "code",
   "execution_count": 46,
   "metadata": {},
   "outputs": [
    {
     "data": {
      "text/plain": [
       "0    False\n",
       "1    False\n",
       "2     True\n",
       "3     True\n",
       "4     True\n",
       "Name: balance, dtype: bool"
      ]
     },
     "execution_count": 46,
     "metadata": {},
     "output_type": "execute_result"
    }
   ],
   "source": [
    "df.balance>30"
   ]
  },
  {
   "cell_type": "code",
   "execution_count": 47,
   "metadata": {},
   "outputs": [
    {
     "data": {
      "text/html": [
       "<div>\n",
       "<style scoped>\n",
       "    .dataframe tbody tr th:only-of-type {\n",
       "        vertical-align: middle;\n",
       "    }\n",
       "\n",
       "    .dataframe tbody tr th {\n",
       "        vertical-align: top;\n",
       "    }\n",
       "\n",
       "    .dataframe thead th {\n",
       "        text-align: right;\n",
       "    }\n",
       "</style>\n",
       "<table border=\"1\" class=\"dataframe\">\n",
       "  <thead>\n",
       "    <tr style=\"text-align: right;\">\n",
       "      <th></th>\n",
       "      <th>name</th>\n",
       "      <th>balance</th>\n",
       "    </tr>\n",
       "  </thead>\n",
       "  <tbody>\n",
       "    <tr>\n",
       "      <th>2</th>\n",
       "      <td>C</td>\n",
       "      <td>37</td>\n",
       "    </tr>\n",
       "    <tr>\n",
       "      <th>3</th>\n",
       "      <td>D</td>\n",
       "      <td>42</td>\n",
       "    </tr>\n",
       "    <tr>\n",
       "      <th>4</th>\n",
       "      <td>E</td>\n",
       "      <td>42</td>\n",
       "    </tr>\n",
       "  </tbody>\n",
       "</table>\n",
       "</div>"
      ],
      "text/plain": [
       "  name  balance\n",
       "2    C       37\n",
       "3    D       42\n",
       "4    E       42"
      ]
     },
     "execution_count": 47,
     "metadata": {},
     "output_type": "execute_result"
    }
   ],
   "source": [
    "df.loc[df.balance>30]"
   ]
  },
  {
   "cell_type": "code",
   "execution_count": 48,
   "metadata": {},
   "outputs": [],
   "source": [
    "df['name']=df['name'].map(lambda x: \"a01\"+ x)"
   ]
  },
  {
   "cell_type": "code",
   "execution_count": 49,
   "metadata": {},
   "outputs": [
    {
     "data": {
      "text/html": [
       "<div>\n",
       "<style scoped>\n",
       "    .dataframe tbody tr th:only-of-type {\n",
       "        vertical-align: middle;\n",
       "    }\n",
       "\n",
       "    .dataframe tbody tr th {\n",
       "        vertical-align: top;\n",
       "    }\n",
       "\n",
       "    .dataframe thead th {\n",
       "        text-align: right;\n",
       "    }\n",
       "</style>\n",
       "<table border=\"1\" class=\"dataframe\">\n",
       "  <thead>\n",
       "    <tr style=\"text-align: right;\">\n",
       "      <th></th>\n",
       "      <th>name</th>\n",
       "      <th>balance</th>\n",
       "    </tr>\n",
       "  </thead>\n",
       "  <tbody>\n",
       "    <tr>\n",
       "      <th>0</th>\n",
       "      <td>a01A</td>\n",
       "      <td>12</td>\n",
       "    </tr>\n",
       "    <tr>\n",
       "      <th>1</th>\n",
       "      <td>a01B</td>\n",
       "      <td>8</td>\n",
       "    </tr>\n",
       "    <tr>\n",
       "      <th>2</th>\n",
       "      <td>a01C</td>\n",
       "      <td>37</td>\n",
       "    </tr>\n",
       "    <tr>\n",
       "      <th>3</th>\n",
       "      <td>a01D</td>\n",
       "      <td>42</td>\n",
       "    </tr>\n",
       "    <tr>\n",
       "      <th>4</th>\n",
       "      <td>a01E</td>\n",
       "      <td>42</td>\n",
       "    </tr>\n",
       "  </tbody>\n",
       "</table>\n",
       "</div>"
      ],
      "text/plain": [
       "   name  balance\n",
       "0  a01A       12\n",
       "1  a01B        8\n",
       "2  a01C       37\n",
       "3  a01D       42\n",
       "4  a01E       42"
      ]
     },
     "execution_count": 49,
     "metadata": {},
     "output_type": "execute_result"
    }
   ],
   "source": [
    "df"
   ]
  },
  {
   "cell_type": "code",
   "execution_count": 50,
   "metadata": {},
   "outputs": [
    {
     "data": {
      "text/html": [
       "<div>\n",
       "<style scoped>\n",
       "    .dataframe tbody tr th:only-of-type {\n",
       "        vertical-align: middle;\n",
       "    }\n",
       "\n",
       "    .dataframe tbody tr th {\n",
       "        vertical-align: top;\n",
       "    }\n",
       "\n",
       "    .dataframe thead th {\n",
       "        text-align: right;\n",
       "    }\n",
       "</style>\n",
       "<table border=\"1\" class=\"dataframe\">\n",
       "  <thead>\n",
       "    <tr style=\"text-align: right;\">\n",
       "      <th></th>\n",
       "      <th>name</th>\n",
       "      <th>balance</th>\n",
       "    </tr>\n",
       "  </thead>\n",
       "  <tbody>\n",
       "    <tr>\n",
       "      <th>0</th>\n",
       "      <td>from example a01A</td>\n",
       "      <td>12</td>\n",
       "    </tr>\n",
       "    <tr>\n",
       "      <th>1</th>\n",
       "      <td>from example a01B</td>\n",
       "      <td>8</td>\n",
       "    </tr>\n",
       "    <tr>\n",
       "      <th>2</th>\n",
       "      <td>from example a01C</td>\n",
       "      <td>37</td>\n",
       "    </tr>\n",
       "    <tr>\n",
       "      <th>3</th>\n",
       "      <td>from example a01D</td>\n",
       "      <td>42</td>\n",
       "    </tr>\n",
       "    <tr>\n",
       "      <th>4</th>\n",
       "      <td>from example a01E</td>\n",
       "      <td>42</td>\n",
       "    </tr>\n",
       "  </tbody>\n",
       "</table>\n",
       "</div>"
      ],
      "text/plain": [
       "                name  balance\n",
       "0  from example a01A       12\n",
       "1  from example a01B        8\n",
       "2  from example a01C       37\n",
       "3  from example a01D       42\n",
       "4  from example a01E       42"
      ]
     },
     "execution_count": 50,
     "metadata": {},
     "output_type": "execute_result"
    }
   ],
   "source": [
    "def example_function(x):\n",
    "    return \"from example \"+ x\n",
    "df['name']=df['name'].map(example_function)\n",
    "df"
   ]
  },
  {
   "cell_type": "code",
   "execution_count": 51,
   "metadata": {},
   "outputs": [
    {
     "data": {
      "text/html": [
       "<div>\n",
       "<style scoped>\n",
       "    .dataframe tbody tr th:only-of-type {\n",
       "        vertical-align: middle;\n",
       "    }\n",
       "\n",
       "    .dataframe tbody tr th {\n",
       "        vertical-align: top;\n",
       "    }\n",
       "\n",
       "    .dataframe thead th {\n",
       "        text-align: right;\n",
       "    }\n",
       "</style>\n",
       "<table border=\"1\" class=\"dataframe\">\n",
       "  <thead>\n",
       "    <tr style=\"text-align: right;\">\n",
       "      <th></th>\n",
       "      <th>name</th>\n",
       "      <th>balance</th>\n",
       "      <th>new_balance</th>\n",
       "    </tr>\n",
       "  </thead>\n",
       "  <tbody>\n",
       "    <tr>\n",
       "      <th>0</th>\n",
       "      <td>from example a01A</td>\n",
       "      <td>12</td>\n",
       "      <td>22</td>\n",
       "    </tr>\n",
       "    <tr>\n",
       "      <th>1</th>\n",
       "      <td>from example a01B</td>\n",
       "      <td>8</td>\n",
       "      <td>18</td>\n",
       "    </tr>\n",
       "    <tr>\n",
       "      <th>2</th>\n",
       "      <td>from example a01C</td>\n",
       "      <td>37</td>\n",
       "      <td>47</td>\n",
       "    </tr>\n",
       "    <tr>\n",
       "      <th>3</th>\n",
       "      <td>from example a01D</td>\n",
       "      <td>42</td>\n",
       "      <td>52</td>\n",
       "    </tr>\n",
       "    <tr>\n",
       "      <th>4</th>\n",
       "      <td>from example a01E</td>\n",
       "      <td>42</td>\n",
       "      <td>52</td>\n",
       "    </tr>\n",
       "  </tbody>\n",
       "</table>\n",
       "</div>"
      ],
      "text/plain": [
       "                name  balance  new_balance\n",
       "0  from example a01A       12           22\n",
       "1  from example a01B        8           18\n",
       "2  from example a01C       37           47\n",
       "3  from example a01D       42           52\n",
       "4  from example a01E       42           52"
      ]
     },
     "execution_count": 51,
     "metadata": {},
     "output_type": "execute_result"
    }
   ],
   "source": [
    "def example_function(row):\n",
    "    row['new_balance']=int(row.balance)+10\n",
    "    return row\n",
    "\n",
    "df.apply(example_function, axis='columns')\n",
    "    "
   ]
  },
  {
   "cell_type": "code",
   "execution_count": null,
   "metadata": {},
   "outputs": [],
   "source": []
  }
 ],
 "metadata": {
  "kernelspec": {
   "display_name": "Python 3",
   "language": "python",
   "name": "python3"
  },
  "language_info": {
   "codemirror_mode": {
    "name": "ipython",
    "version": 3
   },
   "file_extension": ".py",
   "mimetype": "text/x-python",
   "name": "python",
   "nbconvert_exporter": "python",
   "pygments_lexer": "ipython3",
   "version": "3.8.3"
  }
 },
 "nbformat": 4,
 "nbformat_minor": 4
}
