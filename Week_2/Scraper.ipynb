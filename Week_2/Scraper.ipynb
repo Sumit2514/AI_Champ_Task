{
 "cells": [
  {
   "cell_type": "markdown",
   "metadata": {},
   "source": [
    "## Importing important library"
   ]
  },
  {
   "cell_type": "code",
   "execution_count": 1,
   "metadata": {},
   "outputs": [],
   "source": [
    "import os\n",
    "import pandas as pd\n",
    "import requests\n",
    "from bs4 import BeautifulSoup"
   ]
  },
  {
   "cell_type": "markdown",
   "metadata": {},
   "source": [
    "## Empty list for storing urls of all pages"
   ]
  },
  {
   "cell_type": "code",
   "execution_count": 2,
   "metadata": {},
   "outputs": [],
   "source": [
    "url=[]"
   ]
  },
  {
   "cell_type": "code",
   "execution_count": 3,
   "metadata": {},
   "outputs": [],
   "source": [
    "for i in range(2,51):\n",
    "    url.append(\"http://books.toscrape.com/catalogue/page-\"+str(i)+\".html\")\n",
    "    \n"
   ]
  },
  {
   "cell_type": "markdown",
   "metadata": {},
   "source": [
    "## Inserting first page url in url list "
   ]
  },
  {
   "cell_type": "code",
   "execution_count": 4,
   "metadata": {},
   "outputs": [],
   "source": [
    "url.insert(0,\"http://books.toscrape.com/\")"
   ]
  },
  {
   "cell_type": "code",
   "execution_count": 5,
   "metadata": {},
   "outputs": [
    {
     "data": {
      "text/plain": [
       "50"
      ]
     },
     "execution_count": 5,
     "metadata": {},
     "output_type": "execute_result"
    }
   ],
   "source": [
    "len(url)"
   ]
  },
  {
   "cell_type": "markdown",
   "metadata": {},
   "source": [
    "## Display urls store in url list"
   ]
  },
  {
   "cell_type": "code",
   "execution_count": 6,
   "metadata": {},
   "outputs": [
    {
     "name": "stdout",
     "output_type": "stream",
     "text": [
      "['http://books.toscrape.com/', 'http://books.toscrape.com/catalogue/page-2.html', 'http://books.toscrape.com/catalogue/page-3.html', 'http://books.toscrape.com/catalogue/page-4.html', 'http://books.toscrape.com/catalogue/page-5.html', 'http://books.toscrape.com/catalogue/page-6.html', 'http://books.toscrape.com/catalogue/page-7.html', 'http://books.toscrape.com/catalogue/page-8.html', 'http://books.toscrape.com/catalogue/page-9.html', 'http://books.toscrape.com/catalogue/page-10.html', 'http://books.toscrape.com/catalogue/page-11.html', 'http://books.toscrape.com/catalogue/page-12.html', 'http://books.toscrape.com/catalogue/page-13.html', 'http://books.toscrape.com/catalogue/page-14.html', 'http://books.toscrape.com/catalogue/page-15.html', 'http://books.toscrape.com/catalogue/page-16.html', 'http://books.toscrape.com/catalogue/page-17.html', 'http://books.toscrape.com/catalogue/page-18.html', 'http://books.toscrape.com/catalogue/page-19.html', 'http://books.toscrape.com/catalogue/page-20.html', 'http://books.toscrape.com/catalogue/page-21.html', 'http://books.toscrape.com/catalogue/page-22.html', 'http://books.toscrape.com/catalogue/page-23.html', 'http://books.toscrape.com/catalogue/page-24.html', 'http://books.toscrape.com/catalogue/page-25.html', 'http://books.toscrape.com/catalogue/page-26.html', 'http://books.toscrape.com/catalogue/page-27.html', 'http://books.toscrape.com/catalogue/page-28.html', 'http://books.toscrape.com/catalogue/page-29.html', 'http://books.toscrape.com/catalogue/page-30.html', 'http://books.toscrape.com/catalogue/page-31.html', 'http://books.toscrape.com/catalogue/page-32.html', 'http://books.toscrape.com/catalogue/page-33.html', 'http://books.toscrape.com/catalogue/page-34.html', 'http://books.toscrape.com/catalogue/page-35.html', 'http://books.toscrape.com/catalogue/page-36.html', 'http://books.toscrape.com/catalogue/page-37.html', 'http://books.toscrape.com/catalogue/page-38.html', 'http://books.toscrape.com/catalogue/page-39.html', 'http://books.toscrape.com/catalogue/page-40.html', 'http://books.toscrape.com/catalogue/page-41.html', 'http://books.toscrape.com/catalogue/page-42.html', 'http://books.toscrape.com/catalogue/page-43.html', 'http://books.toscrape.com/catalogue/page-44.html', 'http://books.toscrape.com/catalogue/page-45.html', 'http://books.toscrape.com/catalogue/page-46.html', 'http://books.toscrape.com/catalogue/page-47.html', 'http://books.toscrape.com/catalogue/page-48.html', 'http://books.toscrape.com/catalogue/page-49.html', 'http://books.toscrape.com/catalogue/page-50.html']\n"
     ]
    }
   ],
   "source": [
    "print(url)"
   ]
  },
  {
   "cell_type": "markdown",
   "metadata": {},
   "source": [
    "## Scrape data from all pages i.e. book name , book price ,book rating ,book availability and book link"
   ]
  },
  {
   "cell_type": "code",
   "execution_count": 7,
   "metadata": {},
   "outputs": [],
   "source": [
    "book_name=[]\n",
    "book_price=[]\n",
    "book_rating=[]\n",
    "book_availability=[]\n",
    "book_links=[]\n",
    "\n",
    "\n",
    "for website in url:\n",
    "    html_content=requests.get(website).text\n",
    "    soup=BeautifulSoup(html_content)\n",
    "    book_containers= soup.find_all(\"article\", class_ = \"product_pod\")\n",
    "    for book in book_containers:\n",
    "        book_url=book.h3.a.get('href')\n",
    "        if(website==url[0]):\n",
    "            link=\"http://books.toscrape.com/\"+str(book_url)\n",
    "        else:    \n",
    "            link=\"http://books.toscrape.com/catalogue/\"+str(book_url)              \n",
    "        name = book.h3.a.get('title')\n",
    "        price = book.find('p', class_='price_color').text.strip()\n",
    "        rating=book.p.get(\"class\")[1]\n",
    "        stock_info=book.find('p',class_='instock availability').text.strip()\n",
    "        book_name.append(name)\n",
    "        book_price.append(price)\n",
    "        book_rating.append(rating)\n",
    "        book_availability.append(stock_info)\n",
    "        book_links.append(link)\n",
    "        \n",
    "        \n",
    "        \n",
    "            \n",
    "       \n",
    "    \n",
    "\n"
   ]
  },
  {
   "cell_type": "markdown",
   "metadata": {},
   "source": [
    "## Dataframe containing book name , price , rating , availability and link"
   ]
  },
  {
   "cell_type": "code",
   "execution_count": 8,
   "metadata": {},
   "outputs": [
    {
     "data": {
      "text/html": [
       "<div>\n",
       "<style scoped>\n",
       "    .dataframe tbody tr th:only-of-type {\n",
       "        vertical-align: middle;\n",
       "    }\n",
       "\n",
       "    .dataframe tbody tr th {\n",
       "        vertical-align: top;\n",
       "    }\n",
       "\n",
       "    .dataframe thead th {\n",
       "        text-align: right;\n",
       "    }\n",
       "</style>\n",
       "<table border=\"1\" class=\"dataframe\">\n",
       "  <thead>\n",
       "    <tr style=\"text-align: right;\">\n",
       "      <th></th>\n",
       "      <th>Name</th>\n",
       "      <th>Price</th>\n",
       "      <th>Rating</th>\n",
       "      <th>Availability</th>\n",
       "      <th>Link</th>\n",
       "    </tr>\n",
       "  </thead>\n",
       "  <tbody>\n",
       "    <tr>\n",
       "      <th>0</th>\n",
       "      <td>A Light in the Attic</td>\n",
       "      <td>Â£51.77</td>\n",
       "      <td>Three</td>\n",
       "      <td>In stock</td>\n",
       "      <td>http://books.toscrape.com/catalogue/a-light-in...</td>\n",
       "    </tr>\n",
       "    <tr>\n",
       "      <th>1</th>\n",
       "      <td>Tipping the Velvet</td>\n",
       "      <td>Â£53.74</td>\n",
       "      <td>One</td>\n",
       "      <td>In stock</td>\n",
       "      <td>http://books.toscrape.com/catalogue/tipping-th...</td>\n",
       "    </tr>\n",
       "    <tr>\n",
       "      <th>2</th>\n",
       "      <td>Soumission</td>\n",
       "      <td>Â£50.10</td>\n",
       "      <td>One</td>\n",
       "      <td>In stock</td>\n",
       "      <td>http://books.toscrape.com/catalogue/soumission...</td>\n",
       "    </tr>\n",
       "    <tr>\n",
       "      <th>3</th>\n",
       "      <td>Sharp Objects</td>\n",
       "      <td>Â£47.82</td>\n",
       "      <td>Four</td>\n",
       "      <td>In stock</td>\n",
       "      <td>http://books.toscrape.com/catalogue/sharp-obje...</td>\n",
       "    </tr>\n",
       "    <tr>\n",
       "      <th>4</th>\n",
       "      <td>Sapiens: A Brief History of Humankind</td>\n",
       "      <td>Â£54.23</td>\n",
       "      <td>Five</td>\n",
       "      <td>In stock</td>\n",
       "      <td>http://books.toscrape.com/catalogue/sapiens-a-...</td>\n",
       "    </tr>\n",
       "  </tbody>\n",
       "</table>\n",
       "</div>"
      ],
      "text/plain": [
       "                                    Name    Price Rating Availability  \\\n",
       "0                   A Light in the Attic  Â£51.77  Three     In stock   \n",
       "1                     Tipping the Velvet  Â£53.74    One     In stock   \n",
       "2                             Soumission  Â£50.10    One     In stock   \n",
       "3                          Sharp Objects  Â£47.82   Four     In stock   \n",
       "4  Sapiens: A Brief History of Humankind  Â£54.23   Five     In stock   \n",
       "\n",
       "                                                Link  \n",
       "0  http://books.toscrape.com/catalogue/a-light-in...  \n",
       "1  http://books.toscrape.com/catalogue/tipping-th...  \n",
       "2  http://books.toscrape.com/catalogue/soumission...  \n",
       "3  http://books.toscrape.com/catalogue/sharp-obje...  \n",
       "4  http://books.toscrape.com/catalogue/sapiens-a-...  "
      ]
     },
     "execution_count": 8,
     "metadata": {},
     "output_type": "execute_result"
    }
   ],
   "source": [
    "df = pd.DataFrame({\n",
    "    \"Name\": book_name,\n",
    "    \"Price\": book_price,\n",
    "    \"Rating\":book_rating,\n",
    "    \"Availability\":book_availability,\n",
    "    \"Link\":book_links})\n",
    "\n",
    "df.head()"
   ]
  },
  {
   "cell_type": "code",
   "execution_count": 9,
   "metadata": {},
   "outputs": [
    {
     "data": {
      "text/html": [
       "<div>\n",
       "<style scoped>\n",
       "    .dataframe tbody tr th:only-of-type {\n",
       "        vertical-align: middle;\n",
       "    }\n",
       "\n",
       "    .dataframe tbody tr th {\n",
       "        vertical-align: top;\n",
       "    }\n",
       "\n",
       "    .dataframe thead th {\n",
       "        text-align: right;\n",
       "    }\n",
       "</style>\n",
       "<table border=\"1\" class=\"dataframe\">\n",
       "  <thead>\n",
       "    <tr style=\"text-align: right;\">\n",
       "      <th></th>\n",
       "      <th>Name</th>\n",
       "      <th>Price</th>\n",
       "      <th>Rating</th>\n",
       "      <th>Availability</th>\n",
       "      <th>Link</th>\n",
       "    </tr>\n",
       "  </thead>\n",
       "  <tbody>\n",
       "    <tr>\n",
       "      <th>995</th>\n",
       "      <td>Alice in Wonderland (Alice's Adventures in Won...</td>\n",
       "      <td>Â£55.53</td>\n",
       "      <td>One</td>\n",
       "      <td>In stock</td>\n",
       "      <td>http://books.toscrape.com/catalogue/alice-in-w...</td>\n",
       "    </tr>\n",
       "    <tr>\n",
       "      <th>996</th>\n",
       "      <td>Ajin: Demi-Human, Volume 1 (Ajin: Demi-Human #1)</td>\n",
       "      <td>Â£57.06</td>\n",
       "      <td>Four</td>\n",
       "      <td>In stock</td>\n",
       "      <td>http://books.toscrape.com/catalogue/ajin-demi-...</td>\n",
       "    </tr>\n",
       "    <tr>\n",
       "      <th>997</th>\n",
       "      <td>A Spy's Devotion (The Regency Spies of London #1)</td>\n",
       "      <td>Â£16.97</td>\n",
       "      <td>Five</td>\n",
       "      <td>In stock</td>\n",
       "      <td>http://books.toscrape.com/catalogue/a-spys-dev...</td>\n",
       "    </tr>\n",
       "    <tr>\n",
       "      <th>998</th>\n",
       "      <td>1st to Die (Women's Murder Club #1)</td>\n",
       "      <td>Â£53.98</td>\n",
       "      <td>One</td>\n",
       "      <td>In stock</td>\n",
       "      <td>http://books.toscrape.com/catalogue/1st-to-die...</td>\n",
       "    </tr>\n",
       "    <tr>\n",
       "      <th>999</th>\n",
       "      <td>1,000 Places to See Before You Die</td>\n",
       "      <td>Â£26.08</td>\n",
       "      <td>Five</td>\n",
       "      <td>In stock</td>\n",
       "      <td>http://books.toscrape.com/catalogue/1000-place...</td>\n",
       "    </tr>\n",
       "  </tbody>\n",
       "</table>\n",
       "</div>"
      ],
      "text/plain": [
       "                                                  Name    Price Rating  \\\n",
       "995  Alice in Wonderland (Alice's Adventures in Won...  Â£55.53    One   \n",
       "996   Ajin: Demi-Human, Volume 1 (Ajin: Demi-Human #1)  Â£57.06   Four   \n",
       "997  A Spy's Devotion (The Regency Spies of London #1)  Â£16.97   Five   \n",
       "998                1st to Die (Women's Murder Club #1)  Â£53.98    One   \n",
       "999                 1,000 Places to See Before You Die  Â£26.08   Five   \n",
       "\n",
       "    Availability                                               Link  \n",
       "995     In stock  http://books.toscrape.com/catalogue/alice-in-w...  \n",
       "996     In stock  http://books.toscrape.com/catalogue/ajin-demi-...  \n",
       "997     In stock  http://books.toscrape.com/catalogue/a-spys-dev...  \n",
       "998     In stock  http://books.toscrape.com/catalogue/1st-to-die...  \n",
       "999     In stock  http://books.toscrape.com/catalogue/1000-place...  "
      ]
     },
     "execution_count": 9,
     "metadata": {},
     "output_type": "execute_result"
    }
   ],
   "source": [
    "df.tail()\n"
   ]
  },
  {
   "cell_type": "code",
   "execution_count": 10,
   "metadata": {},
   "outputs": [
    {
     "data": {
      "text/plain": [
       "(1000, 5)"
      ]
     },
     "execution_count": 10,
     "metadata": {},
     "output_type": "execute_result"
    }
   ],
   "source": [
    "df.shape"
   ]
  },
  {
   "cell_type": "markdown",
   "metadata": {},
   "source": [
    "## Storing data in csv format"
   ]
  },
  {
   "cell_type": "code",
   "execution_count": 11,
   "metadata": {},
   "outputs": [],
   "source": [
    "df.to_csv(os.path.join(\"data\",\"Scraped_data.csv\"))"
   ]
  }
 ],
 "metadata": {
  "kernelspec": {
   "display_name": "Python 3",
   "language": "python",
   "name": "python3"
  },
  "language_info": {
   "codemirror_mode": {
    "name": "ipython",
    "version": 3
   },
   "file_extension": ".py",
   "mimetype": "text/x-python",
   "name": "python",
   "nbconvert_exporter": "python",
   "pygments_lexer": "ipython3",
   "version": "3.8.3"
  }
 },
 "nbformat": 4,
 "nbformat_minor": 4
}
