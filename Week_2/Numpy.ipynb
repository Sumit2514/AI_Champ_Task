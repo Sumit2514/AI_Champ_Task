{
 "cells": [
  {
   "cell_type": "code",
   "execution_count": 1,
   "metadata": {},
   "outputs": [],
   "source": [
    "import numpy as np"
   ]
  },
  {
   "cell_type": "code",
   "execution_count": 2,
   "metadata": {},
   "outputs": [],
   "source": [
    "normal_list=[1,2,3]\n",
    "numpy_array=np.array(normal_list)"
   ]
  },
  {
   "cell_type": "code",
   "execution_count": 3,
   "metadata": {},
   "outputs": [
    {
     "data": {
      "text/plain": [
       "array([1, 2, 3])"
      ]
     },
     "execution_count": 3,
     "metadata": {},
     "output_type": "execute_result"
    }
   ],
   "source": [
    "numpy_array"
   ]
  },
  {
   "cell_type": "code",
   "execution_count": 4,
   "metadata": {},
   "outputs": [],
   "source": [
    "normal_list=list(range(1,100))\n",
    "numpy_array=np.array(normal_list)"
   ]
  },
  {
   "cell_type": "code",
   "execution_count": 6,
   "metadata": {},
   "outputs": [
    {
     "name": "stdout",
     "output_type": "stream",
     "text": [
      "[0, 1, 2, 3, 4, 5, 6, 7, 8, 9, 10, 11, 12, 13, 14, 15, 16, 17, 18, 19, 20, 21, 22, 23, 24, 25, 26, 27, 28, 29, 30, 31, 32, 33, 34, 35, 36, 37, 38, 39, 40, 41, 42, 43, 44, 45, 46, 47, 48, 49, 50, 51, 52, 53, 54, 55, 56, 57, 58, 59, 60, 61, 62, 63, 64, 65, 66, 67, 68, 69, 70, 71, 72, 73, 74, 75, 76, 77, 78, 79, 80, 81, 82, 83, 84, 85, 86, 87, 88, 89, 90, 91, 92, 93, 94, 95, 96, 97, 98]\n",
      "CPU times: user 2.81 ms, sys: 0 ns, total: 2.81 ms\n",
      "Wall time: 7.08 ms\n"
     ]
    }
   ],
   "source": [
    "%%time\n",
    "\n",
    "a=[x-1 for x in normal_list]\n",
    "print(a)"
   ]
  },
  {
   "cell_type": "code",
   "execution_count": 7,
   "metadata": {},
   "outputs": [
    {
     "name": "stdout",
     "output_type": "stream",
     "text": [
      "[0, 1, 2, 3, 4, 5, 6, 7, 8, 9, 10, 11, 12, 13, 14, 15, 16, 17, 18, 19, 20, 21, 22, 23, 24, 25, 26, 27, 28, 29, 30, 31, 32, 33, 34, 35, 36, 37, 38, 39, 40, 41, 42, 43, 44, 45, 46, 47, 48, 49, 50, 51, 52, 53, 54, 55, 56, 57, 58, 59, 60, 61, 62, 63, 64, 65, 66, 67, 68, 69, 70, 71, 72, 73, 74, 75, 76, 77, 78, 79, 80, 81, 82, 83, 84, 85, 86, 87, 88, 89, 90, 91, 92, 93, 94, 95, 96, 97, 98]\n",
      "CPU times: user 2.2 ms, sys: 137 µs, total: 2.34 ms\n",
      "Wall time: 5.7 ms\n"
     ]
    }
   ],
   "source": [
    "%%time\n",
    "\n",
    "a=[]\n",
    "for x in normal_list:\n",
    "    a.append(x-1)\n",
    "\n",
    "print(a)    \n"
   ]
  },
  {
   "cell_type": "code",
   "execution_count": 8,
   "metadata": {},
   "outputs": [
    {
     "name": "stdout",
     "output_type": "stream",
     "text": [
      "[ 0  1  2  3  4  5  6  7  8  9 10 11 12 13 14 15 16 17 18 19 20 21 22 23\n",
      " 24 25 26 27 28 29 30 31 32 33 34 35 36 37 38 39 40 41 42 43 44 45 46 47\n",
      " 48 49 50 51 52 53 54 55 56 57 58 59 60 61 62 63 64 65 66 67 68 69 70 71\n",
      " 72 73 74 75 76 77 78 79 80 81 82 83 84 85 86 87 88 89 90 91 92 93 94 95\n",
      " 96 97 98]\n",
      "CPU times: user 0 ns, sys: 3.83 ms, total: 3.83 ms\n",
      "Wall time: 8.86 ms\n"
     ]
    }
   ],
   "source": [
    "%%time\n",
    "\n",
    "a=numpy_array-1\n",
    "print(a)"
   ]
  },
  {
   "cell_type": "code",
   "execution_count": 9,
   "metadata": {},
   "outputs": [],
   "source": [
    "a=np.array([4,1,2,5,6,7])"
   ]
  },
  {
   "cell_type": "code",
   "execution_count": 10,
   "metadata": {},
   "outputs": [
    {
     "name": "stdout",
     "output_type": "stream",
     "text": [
      "numpy array a:[4 1 2 5 6 7]\n",
      " type of a: <class 'numpy.ndarray'>\n",
      "\n"
     ]
    }
   ],
   "source": [
    "print(\"numpy array a:{}\\n type of a: {}\\n\".format(a,type(a)))"
   ]
  },
  {
   "cell_type": "code",
   "execution_count": 11,
   "metadata": {},
   "outputs": [
    {
     "name": "stdout",
     "output_type": "stream",
     "text": [
      "what is the 4th element?:5\n"
     ]
    }
   ],
   "source": [
    "print(\"what is the 4th element?:{}\".format(a[3]))"
   ]
  },
  {
   "cell_type": "code",
   "execution_count": 15,
   "metadata": {},
   "outputs": [
    {
     "name": "stdout",
     "output_type": "stream",
     "text": [
      "array a:[[1 2]\n",
      " [3 4]\n",
      " [5 6]]\n",
      " array shape:(3, 2)\n"
     ]
    }
   ],
   "source": [
    "a=np.array([[1,2],\n",
    "            [3,4],\n",
    "            [5,6]])\n",
    "print(\"array a:{}\\n array shape:{}\".format(a,a.shape))"
   ]
  },
  {
   "cell_type": "code",
   "execution_count": 16,
   "metadata": {},
   "outputs": [],
   "source": [
    "rows , cols = a.shape"
   ]
  },
  {
   "cell_type": "code",
   "execution_count": 18,
   "metadata": {},
   "outputs": [
    {
     "name": "stdout",
     "output_type": "stream",
     "text": [
      "rows:3\n",
      "cols:2\n",
      "\n"
     ]
    }
   ],
   "source": [
    "print(\"rows:{}\\ncols:{}\\n\".format(rows,cols))"
   ]
  },
  {
   "cell_type": "code",
   "execution_count": 20,
   "metadata": {},
   "outputs": [
    {
     "data": {
      "text/plain": [
       "array([[0., 0., 0., 0.],\n",
       "       [0., 0., 0., 0.],\n",
       "       [0., 0., 0., 0.],\n",
       "       [0., 0., 0., 0.]])"
      ]
     },
     "execution_count": 20,
     "metadata": {},
     "output_type": "execute_result"
    }
   ],
   "source": [
    "a=np.zeros((4,4))\n",
    "a"
   ]
  },
  {
   "cell_type": "code",
   "execution_count": 22,
   "metadata": {},
   "outputs": [
    {
     "data": {
      "text/plain": [
       "array([[1., 1., 1., 1.],\n",
       "       [1., 1., 1., 1.],\n",
       "       [1., 1., 1., 1.],\n",
       "       [1., 1., 1., 1.]])"
      ]
     },
     "execution_count": 22,
     "metadata": {},
     "output_type": "execute_result"
    }
   ],
   "source": [
    "a=np.ones((4,4))\n",
    "a"
   ]
  },
  {
   "cell_type": "code",
   "execution_count": 25,
   "metadata": {},
   "outputs": [
    {
     "data": {
      "text/plain": [
       "array([[1., 0., 0., 0., 0.],\n",
       "       [0., 1., 0., 0., 0.],\n",
       "       [0., 0., 1., 0., 0.],\n",
       "       [0., 0., 0., 1., 0.],\n",
       "       [0., 0., 0., 0., 1.]])"
      ]
     },
     "execution_count": 25,
     "metadata": {},
     "output_type": "execute_result"
    }
   ],
   "source": [
    "a=np.eye((5))\n",
    "a"
   ]
  },
  {
   "cell_type": "code",
   "execution_count": 27,
   "metadata": {},
   "outputs": [
    {
     "data": {
      "text/plain": [
       "array([[555, 555, 555, 555],\n",
       "       [555, 555, 555, 555],\n",
       "       [555, 555, 555, 555],\n",
       "       [555, 555, 555, 555]])"
      ]
     },
     "execution_count": 27,
     "metadata": {},
     "output_type": "execute_result"
    }
   ],
   "source": [
    "a=np.full((4,4),555)\n",
    "a"
   ]
  },
  {
   "cell_type": "code",
   "execution_count": 28,
   "metadata": {},
   "outputs": [
    {
     "data": {
      "text/plain": [
       "array([[13, 23,  1],\n",
       "       [ 6,  6, 26],\n",
       "       [ 1, 27, 14],\n",
       "       [ 3,  8, 24]])"
      ]
     },
     "execution_count": 28,
     "metadata": {},
     "output_type": "execute_result"
    }
   ],
   "source": [
    "a=np.random.randint(1,30,size=(4,3))\n",
    "a"
   ]
  },
  {
   "cell_type": "code",
   "execution_count": 30,
   "metadata": {},
   "outputs": [
    {
     "data": {
      "text/plain": [
       "array([[87, 25, 69, 44, 13, 31, 10, 23],\n",
       "       [26, 11, 89, 81,  5, 95, 98, 11],\n",
       "       [73, 77, 67, 61, 91, 39, 73, 65],\n",
       "       [34, 80, 93, 33, 21, 39, 83,  6],\n",
       "       [69, 86, 73, 55, 15, 53, 90, 14],\n",
       "       [55, 33, 20, 94, 95, 37, 17, 72],\n",
       "       [97, 67, 31, 34, 19, 78, 96, 65],\n",
       "       [94,  7, 84, 74, 88, 12,  4, 73]])"
      ]
     },
     "execution_count": 30,
     "metadata": {},
     "output_type": "execute_result"
    }
   ],
   "source": [
    "a=np.random.randint(4,99,size=(8,8))\n",
    "a"
   ]
  },
  {
   "cell_type": "code",
   "execution_count": 31,
   "metadata": {},
   "outputs": [
    {
     "data": {
      "text/plain": [
       "array([94,  7, 84, 74, 88, 12,  4, 73])"
      ]
     },
     "execution_count": 31,
     "metadata": {},
     "output_type": "execute_result"
    }
   ],
   "source": [
    "a[-1]"
   ]
  },
  {
   "cell_type": "code",
   "execution_count": 32,
   "metadata": {},
   "outputs": [
    {
     "data": {
      "text/plain": [
       "array([[87, 25, 69, 44, 13, 31, 10, 23],\n",
       "       [26, 11, 89, 81,  5, 95, 98, 11],\n",
       "       [73, 77, 67, 61, 91, 39, 73, 65]])"
      ]
     },
     "execution_count": 32,
     "metadata": {},
     "output_type": "execute_result"
    }
   ],
   "source": [
    "a[:3]"
   ]
  },
  {
   "cell_type": "code",
   "execution_count": 33,
   "metadata": {},
   "outputs": [
    {
     "data": {
      "text/plain": [
       "array([[87, 25, 69, 44, 13, 31, 10, 23],\n",
       "       [26, 11, 89, 81,  5, 95, 98, 11],\n",
       "       [73, 77, 67, 61, 91, 39, 73, 65]])"
      ]
     },
     "execution_count": 33,
     "metadata": {},
     "output_type": "execute_result"
    }
   ],
   "source": [
    "a[:3,:]"
   ]
  },
  {
   "cell_type": "code",
   "execution_count": 34,
   "metadata": {},
   "outputs": [
    {
     "data": {
      "text/plain": [
       "array([[87, 25, 69],\n",
       "       [26, 11, 89],\n",
       "       [73, 77, 67],\n",
       "       [34, 80, 93],\n",
       "       [69, 86, 73],\n",
       "       [55, 33, 20],\n",
       "       [97, 67, 31],\n",
       "       [94,  7, 84]])"
      ]
     },
     "execution_count": 34,
     "metadata": {},
     "output_type": "execute_result"
    }
   ],
   "source": [
    "a[:,:3]"
   ]
  },
  {
   "cell_type": "code",
   "execution_count": 35,
   "metadata": {},
   "outputs": [
    {
     "data": {
      "text/plain": [
       "array([[87, 25],\n",
       "       [26, 11],\n",
       "       [73, 77]])"
      ]
     },
     "execution_count": 35,
     "metadata": {},
     "output_type": "execute_result"
    }
   ],
   "source": [
    "a[:3,:2]"
   ]
  },
  {
   "cell_type": "code",
   "execution_count": 36,
   "metadata": {},
   "outputs": [
    {
     "data": {
      "text/plain": [
       "array([[17, 72],\n",
       "       [96, 65],\n",
       "       [ 4, 73]])"
      ]
     },
     "execution_count": 36,
     "metadata": {},
     "output_type": "execute_result"
    }
   ],
   "source": [
    "a[-3:,-2:]"
   ]
  },
  {
   "cell_type": "code",
   "execution_count": 38,
   "metadata": {},
   "outputs": [
    {
     "name": "stdout",
     "output_type": "stream",
     "text": [
      "step:\n",
      "[[87 25 69 44 13 31 10 23]\n",
      " [73 77 67 61 91 39 73 65]\n",
      " [69 86 73 55 15 53 90 14]\n",
      " [97 67 31 34 19 78 96 65]]\n"
     ]
    }
   ],
   "source": [
    "print(\"step:\\n{}\".format(a[::2]))"
   ]
  },
  {
   "cell_type": "code",
   "execution_count": 39,
   "metadata": {},
   "outputs": [],
   "source": [
    "x=50\n",
    "b=a>x"
   ]
  },
  {
   "cell_type": "code",
   "execution_count": 40,
   "metadata": {},
   "outputs": [
    {
     "data": {
      "text/plain": [
       "array([[ True, False,  True, False, False, False, False, False],\n",
       "       [False, False,  True,  True, False,  True,  True, False],\n",
       "       [ True,  True,  True,  True,  True, False,  True,  True],\n",
       "       [False,  True,  True, False, False, False,  True, False],\n",
       "       [ True,  True,  True,  True, False,  True,  True, False],\n",
       "       [ True, False, False,  True,  True, False, False,  True],\n",
       "       [ True,  True, False, False, False,  True,  True,  True],\n",
       "       [ True, False,  True,  True,  True, False, False,  True]])"
      ]
     },
     "execution_count": 40,
     "metadata": {},
     "output_type": "execute_result"
    }
   ],
   "source": [
    "b"
   ]
  },
  {
   "cell_type": "code",
   "execution_count": 41,
   "metadata": {},
   "outputs": [
    {
     "data": {
      "text/plain": [
       "array([87, 69, 89, 81, 95, 98, 73, 77, 67, 61, 91, 73, 65, 80, 93, 83, 69,\n",
       "       86, 73, 55, 53, 90, 55, 94, 95, 72, 97, 67, 78, 96, 65, 94, 84, 74,\n",
       "       88, 73])"
      ]
     },
     "execution_count": 41,
     "metadata": {},
     "output_type": "execute_result"
    }
   ],
   "source": [
    "a[b]"
   ]
  },
  {
   "cell_type": "code",
   "execution_count": 42,
   "metadata": {},
   "outputs": [
    {
     "data": {
      "text/plain": [
       "array([87, 69, 89, 81, 95, 98, 73, 77, 67, 61, 91, 73, 65, 80, 93, 83, 69,\n",
       "       86, 73, 55, 53, 90, 55, 94, 95, 72, 97, 67, 78, 96, 65, 94, 84, 74,\n",
       "       88, 73])"
      ]
     },
     "execution_count": 42,
     "metadata": {},
     "output_type": "execute_result"
    }
   ],
   "source": [
    "a[a>x]"
   ]
  },
  {
   "cell_type": "code",
   "execution_count": 43,
   "metadata": {},
   "outputs": [
    {
     "data": {
      "text/plain": [
       "array([[False, False, False, False, False, False, False, False],\n",
       "       [False, False, False, False, False, False, False, False],\n",
       "       [False, False, False, False, False, False, False, False],\n",
       "       [False, False, False, False, False, False, False, False],\n",
       "       [False, False, False, False, False, False,  True, False],\n",
       "       [False, False, False, False, False, False, False, False],\n",
       "       [False, False, False, False, False, False, False, False],\n",
       "       [False, False, False, False, False, False, False, False]])"
      ]
     },
     "execution_count": 43,
     "metadata": {},
     "output_type": "execute_result"
    }
   ],
   "source": [
    "a==90"
   ]
  },
  {
   "cell_type": "code",
   "execution_count": 44,
   "metadata": {},
   "outputs": [
    {
     "data": {
      "text/plain": [
       "array([44, 10, 26, 98, 34, 80,  6, 86, 90, 14, 20, 94, 72, 34, 78, 96, 94,\n",
       "       84, 74, 88, 12,  4])"
      ]
     },
     "execution_count": 44,
     "metadata": {},
     "output_type": "execute_result"
    }
   ],
   "source": [
    "a[a%2==0]"
   ]
  },
  {
   "cell_type": "code",
   "execution_count": 47,
   "metadata": {},
   "outputs": [],
   "source": [
    "a=np.random.randint(0,10,size=(5,5))\n",
    "b=np.random.randint(0,10,size=(5,5))"
   ]
  },
  {
   "cell_type": "code",
   "execution_count": 49,
   "metadata": {},
   "outputs": [
    {
     "name": "stdout",
     "output_type": "stream",
     "text": [
      "array a:\n",
      "[[8 1 2 0 3]\n",
      " [9 3 8 2 4]\n",
      " [6 6 1 9 2]\n",
      " [9 4 5 9 4]\n",
      " [6 0 2 9 0]]\n",
      "array b\n",
      ":[[5 0 5 0 7]\n",
      " [0 9 5 0 7]\n",
      " [9 4 2 4 0]\n",
      " [6 5 5 6 3]\n",
      " [0 9 7 8 7]]\n"
     ]
    }
   ],
   "source": [
    "print(\"array a:\\n{}\\narray b\\n:{}\".format(a,b))"
   ]
  },
  {
   "cell_type": "code",
   "execution_count": 50,
   "metadata": {},
   "outputs": [
    {
     "data": {
      "text/plain": [
       "array([[13,  1,  7,  0, 10],\n",
       "       [ 9, 12, 13,  2, 11],\n",
       "       [15, 10,  3, 13,  2],\n",
       "       [15,  9, 10, 15,  7],\n",
       "       [ 6,  9,  9, 17,  7]])"
      ]
     },
     "execution_count": 50,
     "metadata": {},
     "output_type": "execute_result"
    }
   ],
   "source": [
    "a+b"
   ]
  },
  {
   "cell_type": "code",
   "execution_count": 51,
   "metadata": {},
   "outputs": [
    {
     "data": {
      "text/plain": [
       "array([[ 3,  1, -3,  0, -4],\n",
       "       [ 9, -6,  3,  2, -3],\n",
       "       [-3,  2, -1,  5,  2],\n",
       "       [ 3, -1,  0,  3,  1],\n",
       "       [ 6, -9, -5,  1, -7]])"
      ]
     },
     "execution_count": 51,
     "metadata": {},
     "output_type": "execute_result"
    }
   ],
   "source": [
    "a-b"
   ]
  },
  {
   "cell_type": "code",
   "execution_count": 52,
   "metadata": {},
   "outputs": [
    {
     "data": {
      "text/plain": [
       "array([[40,  0, 10,  0, 21],\n",
       "       [ 0, 27, 40,  0, 28],\n",
       "       [54, 24,  2, 36,  0],\n",
       "       [54, 20, 25, 54, 12],\n",
       "       [ 0,  0, 14, 72,  0]])"
      ]
     },
     "execution_count": 52,
     "metadata": {},
     "output_type": "execute_result"
    }
   ],
   "source": [
    "a*b"
   ]
  },
  {
   "cell_type": "code",
   "execution_count": 53,
   "metadata": {},
   "outputs": [
    {
     "name": "stderr",
     "output_type": "stream",
     "text": [
      "<ipython-input-53-aae42d317509>:1: RuntimeWarning: divide by zero encountered in true_divide\n",
      "  a/b\n",
      "<ipython-input-53-aae42d317509>:1: RuntimeWarning: invalid value encountered in true_divide\n",
      "  a/b\n"
     ]
    },
    {
     "data": {
      "text/plain": [
       "array([[1.6       ,        inf, 0.4       ,        nan, 0.42857143],\n",
       "       [       inf, 0.33333333, 1.6       ,        inf, 0.57142857],\n",
       "       [0.66666667, 1.5       , 0.5       , 2.25      ,        inf],\n",
       "       [1.5       , 0.8       , 1.        , 1.5       , 1.33333333],\n",
       "       [       inf, 0.        , 0.28571429, 1.125     , 0.        ]])"
      ]
     },
     "execution_count": 53,
     "metadata": {},
     "output_type": "execute_result"
    }
   ],
   "source": [
    "a/b"
   ]
  },
  {
   "cell_type": "code",
   "execution_count": 54,
   "metadata": {},
   "outputs": [
    {
     "data": {
      "text/plain": [
       "array([[ 58,  44,  70,  32,  84],\n",
       "       [129, 105, 114,  76, 118],\n",
       "       [ 93, 121, 121,  74, 125],\n",
       "       [144, 137, 148, 106, 146],\n",
       "       [102,  53,  79,  62,  69]])"
      ]
     },
     "execution_count": 54,
     "metadata": {},
     "output_type": "execute_result"
    }
   ],
   "source": [
    "a.dot(b)"
   ]
  },
  {
   "cell_type": "code",
   "execution_count": 55,
   "metadata": {},
   "outputs": [
    {
     "data": {
      "text/plain": [
       "array([[ 58,  44,  70,  32,  84],\n",
       "       [129, 105, 114,  76, 118],\n",
       "       [ 93, 121, 121,  74, 125],\n",
       "       [144, 137, 148, 106, 146],\n",
       "       [102,  53,  79,  62,  69]])"
      ]
     },
     "execution_count": 55,
     "metadata": {},
     "output_type": "execute_result"
    }
   ],
   "source": [
    "np.dot(a,b)"
   ]
  },
  {
   "cell_type": "code",
   "execution_count": 56,
   "metadata": {},
   "outputs": [
    {
     "data": {
      "text/plain": [
       "array([[8, 1, 2, 0, 3],\n",
       "       [9, 3, 8, 2, 4],\n",
       "       [6, 6, 1, 9, 2],\n",
       "       [9, 4, 5, 9, 4],\n",
       "       [6, 0, 2, 9, 0]])"
      ]
     },
     "execution_count": 56,
     "metadata": {},
     "output_type": "execute_result"
    }
   ],
   "source": [
    "a"
   ]
  },
  {
   "cell_type": "code",
   "execution_count": 58,
   "metadata": {},
   "outputs": [
    {
     "data": {
      "text/plain": [
       "array([[8, 9, 6, 9, 6],\n",
       "       [1, 3, 6, 4, 0],\n",
       "       [2, 8, 1, 5, 2],\n",
       "       [0, 2, 9, 9, 9],\n",
       "       [3, 4, 2, 4, 0]])"
      ]
     },
     "execution_count": 58,
     "metadata": {},
     "output_type": "execute_result"
    }
   ],
   "source": [
    "a.T"
   ]
  },
  {
   "cell_type": "code",
   "execution_count": 59,
   "metadata": {},
   "outputs": [],
   "source": [
    "a=np.random.randint(0,10,size=(5,5))\n",
    "b=np.random.randint(0,10,size=(5))"
   ]
  },
  {
   "cell_type": "code",
   "execution_count": 61,
   "metadata": {},
   "outputs": [
    {
     "data": {
      "text/plain": [
       "array([[2, 5, 7, 3, 6],\n",
       "       [6, 8, 3, 4, 1],\n",
       "       [3, 5, 4, 2, 5],\n",
       "       [9, 9, 0, 7, 3],\n",
       "       [8, 6, 7, 9, 4]])"
      ]
     },
     "execution_count": 61,
     "metadata": {},
     "output_type": "execute_result"
    }
   ],
   "source": [
    "a"
   ]
  },
  {
   "cell_type": "code",
   "execution_count": 62,
   "metadata": {},
   "outputs": [
    {
     "data": {
      "text/plain": [
       "array([1, 3, 8, 3, 3])"
      ]
     },
     "execution_count": 62,
     "metadata": {},
     "output_type": "execute_result"
    }
   ],
   "source": [
    "b"
   ]
  },
  {
   "cell_type": "code",
   "execution_count": 63,
   "metadata": {},
   "outputs": [
    {
     "data": {
      "text/plain": [
       "array([[ 3,  8, 15,  6,  9],\n",
       "       [ 7, 11, 11,  7,  4],\n",
       "       [ 4,  8, 12,  5,  8],\n",
       "       [10, 12,  8, 10,  6],\n",
       "       [ 9,  9, 15, 12,  7]])"
      ]
     },
     "execution_count": 63,
     "metadata": {},
     "output_type": "execute_result"
    }
   ],
   "source": [
    "a+b"
   ]
  },
  {
   "cell_type": "code",
   "execution_count": 64,
   "metadata": {},
   "outputs": [
    {
     "data": {
      "text/plain": [
       "array([1, 3, 8, 3, 3])"
      ]
     },
     "execution_count": 64,
     "metadata": {},
     "output_type": "execute_result"
    }
   ],
   "source": [
    "b.T"
   ]
  },
  {
   "cell_type": "code",
   "execution_count": 66,
   "metadata": {},
   "outputs": [
    {
     "data": {
      "text/plain": [
       "array([1, 3, 8, 3, 3])"
      ]
     },
     "execution_count": 66,
     "metadata": {},
     "output_type": "execute_result"
    }
   ],
   "source": [
    "b.T"
   ]
  },
  {
   "cell_type": "code",
   "execution_count": 67,
   "metadata": {},
   "outputs": [
    {
     "data": {
      "text/plain": [
       "array([[ 3,  8, 15,  6,  9],\n",
       "       [ 7, 11, 11,  7,  4],\n",
       "       [ 4,  8, 12,  5,  8],\n",
       "       [10, 12,  8, 10,  6],\n",
       "       [ 9,  9, 15, 12,  7]])"
      ]
     },
     "execution_count": 67,
     "metadata": {},
     "output_type": "execute_result"
    }
   ],
   "source": [
    "a+b.T"
   ]
  },
  {
   "cell_type": "code",
   "execution_count": 68,
   "metadata": {},
   "outputs": [
    {
     "data": {
      "text/plain": [
       "array([[1],\n",
       "       [3],\n",
       "       [8],\n",
       "       [3],\n",
       "       [3]])"
      ]
     },
     "execution_count": 68,
     "metadata": {},
     "output_type": "execute_result"
    }
   ],
   "source": [
    "b.reshape(-1,1)"
   ]
  },
  {
   "cell_type": "code",
   "execution_count": 69,
   "metadata": {},
   "outputs": [
    {
     "data": {
      "text/plain": [
       "array([[ 3,  6,  8,  4,  7],\n",
       "       [ 9, 11,  6,  7,  4],\n",
       "       [11, 13, 12, 10, 13],\n",
       "       [12, 12,  3, 10,  6],\n",
       "       [11,  9, 10, 12,  7]])"
      ]
     },
     "execution_count": 69,
     "metadata": {},
     "output_type": "execute_result"
    }
   ],
   "source": [
    "a+b.reshape(-1,1)"
   ]
  },
  {
   "cell_type": "code",
   "execution_count": null,
   "metadata": {},
   "outputs": [],
   "source": []
  }
 ],
 "metadata": {
  "kernelspec": {
   "display_name": "Python 3",
   "language": "python",
   "name": "python3"
  },
  "language_info": {
   "codemirror_mode": {
    "name": "ipython",
    "version": 3
   },
   "file_extension": ".py",
   "mimetype": "text/x-python",
   "name": "python",
   "nbconvert_exporter": "python",
   "pygments_lexer": "ipython3",
   "version": "3.8.3"
  }
 },
 "nbformat": 4,
 "nbformat_minor": 4
}
